{
  "nbformat": 4,
  "nbformat_minor": 0,
  "metadata": {
    "colab": {
      "provenance": []
    },
    "kernelspec": {
      "name": "python3",
      "display_name": "Python 3"
    },
    "language_info": {
      "name": "python"
    }
  },
  "cells": [
    {
      "cell_type": "markdown",
      "source": [
        "#Python Basics\n",
        "\n",
        "1. **What is Python, and why is it popular?**\n",
        "   - Python is a high-level, interpreted programming language known for its simplicity, readability, and versatility. It is popular because of its easy syntax, vast libraries, strong community support, and wide applications in web development, data science, AI, automation, and more.\n",
        "\n",
        "2.  **What is an interpreter in Python?**\n",
        "  - An interpreter in Python is a program that reads and executes Python code line by line instead of compiling it all at once. This makes Python easy to run and debug, as you can see the output immediately. The interpreter translates human-readable Python code into machine-readable instructions that your computer can understand.\n",
        "\n",
        "3. **What are pre-defined keywords in Python?**\n",
        "  - Pre-defined keywords in Python are special reserved words that have a fixed meaning and cannot be used as variable names, function names, or any other identifiers. These keywords help define the structure and logic of a Python program. Some common keywords include control flow statements like  'if','else', 'elif','for', and 'while', which help in decision-making and loops. Function and class-related keywords like 'def', 'return', and 'class' are used to define functions and classes. Keywords like 'import', 'from', and 'as' are used for handling modules and libraries. Boolean values are represented by 'True', 'False', and 'None', while exception handling is managed using 'try', 'except', 'finally', and 'raise'. Since these keywords are an essential part of Python, they cannot be redefined by the user.\n",
        "\n",
        "4.  **Can keywords be used as variable names?**\n",
        "  - No, keywords cannot be used as variable names in Python because they are reserved for specific functions and operations in the language. Using a keyword as a variable name will result in a SyntaxError.\n",
        "\n",
        "5. **What is mutability in Python?**\n",
        "  - Mutability in Python refers to whether an object's value can be changed after it is created.Examples include: Lists, Dictionaries, Sets.\n",
        "\n",
        "6.  **Why are lists mutable, but tuples are immutable?**\n",
        "  - Lists are meant to be flexible, allowing modifications like adding, removing, or changing elements. Since they are mutable, Python stores them in memory as objects with dynamic structures that can grow or change.Tuples, on the other hand, are designed for fixed data that shouldn't be changed after creation. They are stored more efficiently in memory, and since they don't change, Python can optimize performance by reusing tuple objects.\n",
        "\n",
        "7.  **What is the difference between “==” and “is” operators in Python?**\n",
        "   - The \"==\" and \"is\" operators in Python are used for comparison, but they work differently:  \n",
        "\n",
        "     - **\"==\"** (Equality Operator) → Checks if values of two objects are the same.  \n",
        "  \n",
        "     - **\"is\"** (Identity Operator) → Checks if two objects refer to the same memory location.\n",
        "    \n",
        "     - Mutable objects (like lists) usually do not share memory, while immutable ones (like small strings and numbers) might be stored in the same location.\n",
        "\n",
        "\n",
        "      \n",
        "              \n",
        "         #Example:\n",
        "         \n",
        "         x = \"hello\"\n",
        "         y = \"hello\"\n",
        "         print(x == y)  #True (values are same)\n",
        "         print(x is y)  #True (same memory location due to string interning)\n",
        "\n",
        "\n",
        "         \n",
        "8.  **What are logical operators in Python?**\n",
        "  - Logical operators in Python are used to combine multiple conditions and return a boolean result (\"True\" or \"False\"). There are three logical operators:  \n",
        "\n",
        "       - These operators are commonly used in \"if statements\" and \"conditional expressions\".\n",
        "\n",
        "- **`and` (Logical AND)** = Returns \"True\" if both conditions are \"True\".  \n",
        "   \n",
        "           #Example:\n",
        "\n",
        "           x = 5\n",
        "           print(x > 2 and x < 10)  #True (both conditions are True)\n",
        "   \n",
        "\n",
        "- **`or` (Logical OR)** = Returns \"True\" if at least one condition is \"True\".  \n",
        "\n",
        "\n",
        "\n",
        "   \n",
        "         #Example:\n",
        "\n",
        "         y = 15\n",
        "         print(y < 10 or y == 15)  #True (one condition is True)\n",
        "   \n",
        "\n",
        "- **`not` (Logical NOT)** = Reverses the boolean value.  \n",
        "   \n",
        "         #Example:\n",
        "\n",
        "         z = False\n",
        "         print(not z)  #True (negates False to True)\n",
        "   \n",
        "\n",
        "9. **What is type casting in Python?**\n",
        "\n",
        "   - The preocess of changing the data type of a value/object because while executing/computation using operators, there can be mismatch between the datatype.\n",
        "\n",
        "\n",
        "\n",
        "10.  **What is the difference between implicit and explicit type casting?**\n",
        "   - Implicit Type Casting is automatic, where Python converts smaller data types to larger ones (e.g., \"int\" to \"float\").  \n",
        "\n",
        "  - Explicit Type Casting is manual, where the programmer explicitly converts data types using functions like \"int()\", \"float()\", or \"str()\".\n",
        "\n",
        "11. **What is the purpose of conditional statements in Python?**\n",
        "   -\n",
        "The purpose of conditional statements in Python is to allow the program to make decisions based on certain conditions. These statements evaluate whether a condition is True or False, and then execute different blocks of code accordingly. This helps you to code decisions based on some preconditions. The common conditional statements in Python include if, elif, else and nested if else, which help control the flow of execution based on the specified conditions.\n",
        "\n",
        "12.  **How does the elif statement work?**\n",
        "   - The elif (short for \"else if\") statement in Python allows you to check multiple conditions in a sequence. It follows an \"if\" statement and is used when you want to check additional conditions if the previous ones were False.\n",
        "\n",
        "       - The if statement checks the first condition.\n",
        "       - If the if condition is False, the program moves to the elif condition and checks it.\n",
        "       -You can have multiple elif statements for checking more than one condition.\n",
        "       -If none of the conditions are True, the else block (if present) is executed.\n",
        "\n",
        "13. **What is the difference between for and while loops?**\n",
        "   -  \"for\" loops are typically used when you have a definite number of iterations or a sequence to loop through, while \"while\" loops are used when you want to repeat something as long as a condition remains \"True\".\n",
        "   \n",
        "  - The difference between \"for\" and \"while\" loops lies in how they control the loop execution:\n",
        "\n",
        "      - \"for\" loop:\n",
        "          - Used when you know the number of iterations in advance or are iterating over a sequence (like a list, range, or string).  \n",
        "          - It iterates through each item in the sequence.  \n",
        "   \n",
        "                 #Example:  \n",
        "\n",
        "                     for i in range(5):  # Loops 5 times\n",
        "                     print(i)\n",
        "     \n",
        "\n",
        "\n",
        "\n",
        "\n",
        "\n",
        "  - \"while\" loop:\n",
        "      -\n",
        "        - Used when you want to repeat code as long as a certain condition is \"True\".  \n",
        "   - The number of iterations is not known beforehand and depends on the condition.\n",
        "\n",
        "                 #Example:  \n",
        "     \n",
        "                  x = 0\n",
        "                  while x < 5:  # Loops while condition is True\n",
        "                  print(x)\n",
        "                  x += 1\n",
        "     \n",
        "\n",
        "14. **Describe a scenario where a while loop is more suitable than a for loop?**\n",
        "  - A \"while\" loop is more suitable than a \"for loop\" when the number of iterations is not known in advance and depends on a condition that is evaluated during the execution.\n",
        "\n",
        "   #Example Scenario:\n",
        "\n",
        "   Suppose we're building a game where a player keeps guessing a secret number, and the loop should continue until the player guesses the correct number.\n",
        "\n",
        "   In this case, we don't know how many guesses the player will take, so a \"while\" loop is ideal:\n",
        "\n",
        "\n",
        "            secret_number = 42\n",
        "            guess = None #initialize guess\n",
        "\n",
        "            while guess != secret_number:  #Keep looping until the guess is correct\n",
        "            guess = int(input(\"Guess the secret number: \"))\n",
        "            if guess != secret_number:\n",
        "            print(\"Wrong number! Try again.\")\n",
        "            else:\n",
        "            print(\"Congratulations! You've guessed the correct number.\")\n",
        "\n",
        "\n",
        "  - Here, the loop continues as long as the player keeps guessing incorrectly, making the \"while\" loop more suitable since the number of guesses is unknown and depends on the condition (whether the guess is correct).\n"
      ],
      "metadata": {
        "id": "F7Hj8lIp0Fhn"
      }
    },
    {
      "cell_type": "markdown",
      "source": [
        "# Practical Questions"
      ],
      "metadata": {
        "id": "4wrRFECe0Dse"
      }
    },
    {
      "cell_type": "code",
      "source": [
        "# Q1. Write a Python program to print \"Hello, World!\"\n",
        "\n",
        "print(\"Hello, World!\")"
      ],
      "metadata": {
        "id": "yoegl42EUXeq",
        "colab": {
          "base_uri": "https://localhost:8080/"
        },
        "outputId": "daf3a222-903b-49be-9dfb-15a83a5dafbb"
      },
      "execution_count": null,
      "outputs": [
        {
          "output_type": "stream",
          "name": "stdout",
          "text": [
            "Hello, World!\n"
          ]
        }
      ]
    },
    {
      "cell_type": "code",
      "source": [
        " # Q2. Write a Python program that displays your name and age.\n",
        "\n",
        " name = \"Dikshant\"\n",
        " age = 22\n",
        "\n",
        " print(\"My name is\", name)\n",
        " print(\"I am\", age, \"years old.\")"
      ],
      "metadata": {
        "colab": {
          "base_uri": "https://localhost:8080/"
        },
        "id": "M0VZl5Af1Ooc",
        "outputId": "cda74236-4636-4574-a903-920ea92176b2"
      },
      "execution_count": null,
      "outputs": [
        {
          "output_type": "stream",
          "name": "stdout",
          "text": [
            "My name is Dikshant\n",
            "I am 22 years old.\n"
          ]
        }
      ]
    },
    {
      "cell_type": "code",
      "source": [
        "# Q3. Write code to print all the pre-defined keywords in Python using the keyword library.\n",
        "\n",
        "import keyword\n",
        "print(\"Pre-defined keywords in Python are:\")\n",
        "print(keyword.kwlist)"
      ],
      "metadata": {
        "colab": {
          "base_uri": "https://localhost:8080/"
        },
        "id": "aB60TV8r4KHW",
        "outputId": "5de00b9e-bcf0-4fb8-ea95-0b94ea7fdf53"
      },
      "execution_count": null,
      "outputs": [
        {
          "output_type": "stream",
          "name": "stdout",
          "text": [
            "Pre-defined keywords in Python are:\n",
            "['False', 'None', 'True', 'and', 'as', 'assert', 'async', 'await', 'break', 'class', 'continue', 'def', 'del', 'elif', 'else', 'except', 'finally', 'for', 'from', 'global', 'if', 'import', 'in', 'is', 'lambda', 'nonlocal', 'not', 'or', 'pass', 'raise', 'return', 'try', 'while', 'with', 'yield']\n"
          ]
        }
      ]
    },
    {
      "cell_type": "code",
      "source": [
        "# Q4.  Write a program that checks if a given word is a Python keyword.\n",
        "\n",
        "import keyword\n",
        "\n",
        "word = input(\"Enter a word: \")\n",
        "\n",
        "if keyword.iskeyword(word):\n",
        "    print(f\"'{word}' is a Python keyword.\")\n",
        "else:\n",
        "    print(f\"'{word}' is not a Python keyword.\")"
      ],
      "metadata": {
        "colab": {
          "base_uri": "https://localhost:8080/"
        },
        "id": "R4aoW8412o_Q",
        "outputId": "b55b4e4a-074e-4821-c3da-0ede92668bcc"
      },
      "execution_count": null,
      "outputs": [
        {
          "output_type": "stream",
          "name": "stdout",
          "text": [
            "Enter a word: else\n",
            "'else' is a Python keyword.\n"
          ]
        }
      ]
    },
    {
      "cell_type": "code",
      "source": [
        "# Q5. Create a list and tuple in Python, and demonstrate how attempting to change an element works differently for each.\n",
        "\n",
        "a = [1, 2, \"dikshant\", \"aditi\"] #creating list\n",
        "a\n"
      ],
      "metadata": {
        "colab": {
          "base_uri": "https://localhost:8080/"
        },
        "id": "PQJ2BI143-F2",
        "outputId": "982b4c58-313b-466a-cdf3-cac598a57538"
      },
      "execution_count": null,
      "outputs": [
        {
          "output_type": "execute_result",
          "data": {
            "text/plain": [
              "[1, 2, 'dikshant', 'aditi']"
            ]
          },
          "metadata": {},
          "execution_count": 17
        }
      ]
    },
    {
      "cell_type": "code",
      "source": [
        "a[3] = \"bhoyar\" # Modifying an element in the list (Allowed)\n",
        "a"
      ],
      "metadata": {
        "colab": {
          "base_uri": "https://localhost:8080/"
        },
        "id": "oCpFibhU5jkl",
        "outputId": "ea3038d1-952f-444e-d089-cd2f2d7f620d"
      },
      "execution_count": null,
      "outputs": [
        {
          "output_type": "execute_result",
          "data": {
            "text/plain": [
              "[1, 2, 'dikshant', 'bhoyar']"
            ]
          },
          "metadata": {},
          "execution_count": 19
        }
      ]
    },
    {
      "cell_type": "code",
      "source": [
        "b = (1, 2, \"D\", \"sannya\") #creating tuple\n",
        "b"
      ],
      "metadata": {
        "colab": {
          "base_uri": "https://localhost:8080/"
        },
        "id": "dEkmgHK053HP",
        "outputId": "660808c5-f8b6-40bb-8dc0-cb6cdb28af78"
      },
      "execution_count": null,
      "outputs": [
        {
          "output_type": "execute_result",
          "data": {
            "text/plain": [
              "(1, 2, 'D', 'sannya')"
            ]
          },
          "metadata": {},
          "execution_count": 20
        }
      ]
    },
    {
      "cell_type": "code",
      "source": [
        "b[3] = \"archana\" # Attempting to modify an element in the tuple (Not Allowed), this will raise a type error\n",
        "b"
      ],
      "metadata": {
        "colab": {
          "base_uri": "https://localhost:8080/",
          "height": 165
        },
        "id": "Fjr-ef1V6iEJ",
        "outputId": "9dd6382b-d926-4cb5-c1db-3108dbf21ec5"
      },
      "execution_count": null,
      "outputs": [
        {
          "output_type": "error",
          "ename": "TypeError",
          "evalue": "'tuple' object does not support item assignment",
          "traceback": [
            "\u001b[0;31m---------------------------------------------------------------------------\u001b[0m",
            "\u001b[0;31mTypeError\u001b[0m                                 Traceback (most recent call last)",
            "\u001b[0;32m<ipython-input-22-fb34744e03c5>\u001b[0m in \u001b[0;36m<cell line: 0>\u001b[0;34m()\u001b[0m\n\u001b[0;32m----> 1\u001b[0;31m \u001b[0mb\u001b[0m\u001b[0;34m[\u001b[0m\u001b[0;36m3\u001b[0m\u001b[0;34m]\u001b[0m \u001b[0;34m=\u001b[0m \u001b[0;34m\"archana\"\u001b[0m\u001b[0;34m\u001b[0m\u001b[0;34m\u001b[0m\u001b[0m\n\u001b[0m\u001b[1;32m      2\u001b[0m \u001b[0mb\u001b[0m\u001b[0;34m\u001b[0m\u001b[0;34m\u001b[0m\u001b[0m\n",
            "\u001b[0;31mTypeError\u001b[0m: 'tuple' object does not support item assignment"
          ]
        }
      ]
    },
    {
      "cell_type": "code",
      "source": [
        "# Q6. Write a function to demonstrate the behavior of mutable and immutable arguments.\n",
        "\n",
        "def modify(immutable, mutable):\n",
        "    immutable += 1\n",
        "    mutable.append(100)\n",
        "\n",
        "num = 10  # Immutable (int)\n",
        "lst = [1, 2, 3]  # Mutable (list)\n",
        "\n",
        "modify(num, lst)\n",
        "\n",
        "print(num)  # Unchanged (10)\n",
        "print(lst)  # Changed ([1, 2, 3, 100])\n"
      ],
      "metadata": {
        "id": "oCHXSu2d6rf2",
        "colab": {
          "base_uri": "https://localhost:8080/"
        },
        "outputId": "4681ba7c-d214-4592-8f56-597009e72c63"
      },
      "execution_count": 1,
      "outputs": [
        {
          "output_type": "stream",
          "name": "stdout",
          "text": [
            "10\n",
            "[1, 2, 3, 100]\n"
          ]
        }
      ]
    },
    {
      "cell_type": "code",
      "source": [
        "# Q7. Write a function to demonstrate the behavior of mutable and immutable arguments.\n",
        "\n",
        "def modify(immutable, mutable):\n",
        "    immutable += 1\n",
        "    mutable.append(100)\n",
        "\n",
        "num = 10  # Immutable (int)\n",
        "lst = [1, 2, 3]  # Mutable (list)\n",
        "\n",
        "modify(num, lst)\n",
        "\n",
        "print(num)  # Unchanged (10)\n",
        "print(lst)  # Changed ([1, 2, 3, 100])"
      ],
      "metadata": {
        "id": "NW187Cq_7gg1",
        "colab": {
          "base_uri": "https://localhost:8080/"
        },
        "outputId": "6045a664-f4dd-40c5-9dce-da65cbbdb361"
      },
      "execution_count": 2,
      "outputs": [
        {
          "output_type": "stream",
          "name": "stdout",
          "text": [
            "10\n",
            "[1, 2, 3, 100]\n"
          ]
        }
      ]
    },
    {
      "cell_type": "code",
      "source": [
        "# Q8.  Write a program to demonstrate the use of logical operators.\n",
        "\n",
        "a, b = True, False\n",
        "x, y = 10, 5\n",
        "\n",
        "# Using 'and' operator\n",
        "print(\"a and b:\", a and b)  # False (both must be True)\n",
        "print(\"x > 5 and y < 10:\", x > 5 and y < 10)  # True (both conditions are True)\n",
        "\n",
        "# Using 'or' operator\n",
        "print(\"a or b:\", a or b)  # True (at least one is True)\n",
        "print(\"x > 5 or y > 10:\", x > 5 or y > 10)  # True (one condition is True)\n",
        "\n",
        "# Using 'not' operator\n",
        "print(\"not a:\", not a)  # False (negation of True)\n",
        "print(\"not (x < y):\", not (x < y))  # True (negation of False)\n",
        "\n"
      ],
      "metadata": {
        "id": "mxnNmSNi7pqZ",
        "colab": {
          "base_uri": "https://localhost:8080/"
        },
        "outputId": "f2dd80cb-a1d3-4698-fe49-6f619bb4e7d5"
      },
      "execution_count": 3,
      "outputs": [
        {
          "output_type": "stream",
          "name": "stdout",
          "text": [
            "a and b: False\n",
            "x > 5 and y < 10: True\n",
            "a or b: True\n",
            "x > 5 or y > 10: True\n",
            "not a: False\n",
            "not (x < y): True\n"
          ]
        }
      ]
    },
    {
      "cell_type": "code",
      "source": [
        "# Q9.  Write a Python program to convert user input from string to integer, float, and boolean types.\n",
        "\n",
        "user_input = input(\"Enter a value: \") # Get user input\n",
        "\n",
        "int_value = int(user_input) # Convert to integer\n",
        "print(\"Integer:\", int_value)\n",
        "\n",
        "float_value = float(user_input) # Convert to float\n",
        "print(\"Float:\", float_value)\n",
        "\n",
        "bool_value = bool(user_input) # Convert to boolean\n",
        "print(\"Boolean:\", bool_value)\n",
        "\n"
      ],
      "metadata": {
        "colab": {
          "base_uri": "https://localhost:8080/"
        },
        "id": "wam93K2dAtgf",
        "outputId": "f9371dcb-f322-4b98-bbf2-8df6a713853a"
      },
      "execution_count": 4,
      "outputs": [
        {
          "output_type": "stream",
          "name": "stdout",
          "text": [
            "Enter a value: 23\n",
            "Integer: 23\n",
            "Float: 23.0\n",
            "Boolean: True\n"
          ]
        }
      ]
    },
    {
      "cell_type": "code",
      "source": [
        "#Q10 Write code to demonstrate type casting with list element\n",
        "\n",
        "list1 = [\"23\", \"42\", \"64\"]\n",
        "\n",
        "print(\"converting list into int : \")\n",
        "for i in list1:\n",
        "  print(int(i), end = \"  \")\n",
        "\n",
        "print(\"\\n\\nconverting list into float : \")\n",
        "for i in list1:\n",
        "  print(float(i))\n",
        "\n",
        "print(\"converting list into bool : \")\n",
        "for i in list1:\n",
        "  print(bool(i))\n",
        "\n",
        "\n",
        "\n"
      ],
      "metadata": {
        "colab": {
          "base_uri": "https://localhost:8080/"
        },
        "id": "11KG2AxDDFk5",
        "outputId": "d5a48538-7353-4704-cafd-ebe30d921670"
      },
      "execution_count": 20,
      "outputs": [
        {
          "output_type": "stream",
          "name": "stdout",
          "text": [
            "converting list into int : \n",
            "23  42  64  \n",
            "\n",
            "converting list into float : \n",
            "23.0\n",
            "42.0\n",
            "64.0\n",
            "converting list into bool : \n",
            "True\n",
            "True\n",
            "True\n"
          ]
        }
      ]
    },
    {
      "cell_type": "code",
      "source": [
        "# Q11 Write a program that checks if a number is positive, negative, or zero.\n",
        "\n",
        "num = int(input(\"Enter a number: \"))\n",
        "\n",
        "if num > 0:\n",
        "    print(\"The number is Positive.\")\n",
        "elif num < 0:\n",
        "    print(\"The number is Negative.\")\n",
        "else:\n",
        "    print(\"The number is Zero.\")\n"
      ],
      "metadata": {
        "colab": {
          "base_uri": "https://localhost:8080/"
        },
        "id": "BdkamoNAODJR",
        "outputId": "73947abe-302c-42c9-d5bf-e675b3731cc8"
      },
      "execution_count": 23,
      "outputs": [
        {
          "output_type": "stream",
          "name": "stdout",
          "text": [
            "Enter a number: 0\n",
            "The number is Zero.\n"
          ]
        }
      ]
    },
    {
      "cell_type": "code",
      "source": [
        "# Q12.  Write a for loop to print numbers from 1 to 10.\n",
        "\n",
        "for i in range(1,11):\n",
        "  print(i, end =\"  \")"
      ],
      "metadata": {
        "colab": {
          "base_uri": "https://localhost:8080/"
        },
        "id": "DYO4iafF7pS6",
        "outputId": "22299c29-a17a-4457-f6e2-3a99ac076e8f"
      },
      "execution_count": null,
      "outputs": [
        {
          "output_type": "stream",
          "name": "stdout",
          "text": [
            "1  2  3  4  5  6  7  8  9  10  "
          ]
        }
      ]
    },
    {
      "cell_type": "code",
      "source": [
        "# Q13. Write a Python program to find the sum of all even numbers between 1 and 50.\n",
        "\n",
        "sum_even_no = 0\n",
        "for i in range(1,51):\n",
        "  if i%2 == 0:\n",
        "    sum_even_no += i\n",
        "print(sum_even_no, end = \" \")\n",
        "\n"
      ],
      "metadata": {
        "id": "PRtxf7iH814A",
        "colab": {
          "base_uri": "https://localhost:8080/"
        },
        "outputId": "4c4d1ea5-9c71-4137-d060-027350350c7c"
      },
      "execution_count": 39,
      "outputs": [
        {
          "output_type": "stream",
          "name": "stdout",
          "text": [
            "650 "
          ]
        }
      ]
    },
    {
      "cell_type": "code",
      "source": [
        "# Q14. Write a program to reverse a string using a while loop.\n",
        "\n",
        "text1= \"dikshant bhoyar\"\n",
        "i = len(text1) - 1\n",
        "\n",
        "while i >= 0:\n",
        "  print(text1[i], end = \" \")\n",
        "  i -= 1\n",
        "\n",
        "\n"
      ],
      "metadata": {
        "colab": {
          "base_uri": "https://localhost:8080/"
        },
        "id": "SuFaM02dUaZr",
        "outputId": "ad4af185-eea7-4da8-cec6-23cb25b048f6"
      },
      "execution_count": 55,
      "outputs": [
        {
          "output_type": "stream",
          "name": "stdout",
          "text": [
            "r a y o h b   t n a h s k i d "
          ]
        }
      ]
    },
    {
      "cell_type": "code",
      "source": [
        "# Q15. Write a Python program to calculate the factorial of a number provided by the user using a while loop.\n",
        "\n",
        "num = int(input(\"Enter a number: \"))\n",
        "\n",
        "factorial = 1\n",
        "i = num\n",
        "\n",
        "while i > 0:\n",
        "    factorial *= i\n",
        "    i -= 1\n",
        "\n",
        "print(\"Factorial of\", num, \"is\", factorial)\n",
        "\n"
      ],
      "metadata": {
        "colab": {
          "base_uri": "https://localhost:8080/"
        },
        "id": "p2Tcf3qVUq7a",
        "outputId": "5bae52fb-46b2-4992-b1d8-be7775099024"
      },
      "execution_count": 64,
      "outputs": [
        {
          "output_type": "stream",
          "name": "stdout",
          "text": [
            "Enter a number: 3\n",
            "Factorial of 3 is 6\n"
          ]
        }
      ]
    },
    {
      "cell_type": "code",
      "source": [],
      "metadata": {
        "id": "QwiTWM_YX1sR"
      },
      "execution_count": 62,
      "outputs": []
    }
  ]
}