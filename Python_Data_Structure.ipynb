{
  "nbformat": 4,
  "nbformat_minor": 0,
  "metadata": {
    "colab": {
      "provenance": []
    },
    "kernelspec": {
      "name": "python3",
      "display_name": "Python 3"
    },
    "language_info": {
      "name": "python"
    }
  },
  "cells": [
    {
      "cell_type": "markdown",
      "source": [
        "#Data Types and Structures\n",
        "\n",
        "1.  **What are data structures, and why are they important?**\n",
        "  - Data structures in Python are specialized formats or containers used to store and organize data efficiently.They provide various ways to store, access, and manipulate data according to specific needs.\n",
        "   \n",
        "  - Data structures are essential for improving efficiency, scalability, and memory management in programming. They optimize code, enhance problem-solving, and are fundamental in algorithms and system design, making them crucial for software development and competitive programming.\n",
        "\n",
        "2.  **Explain the difference between mutable and immutable data types with examples?**\n",
        "    - In Python, mutable and immutable data types refer to whether or not an object’s value can be changed after it is created.\n",
        "\n",
        "      Mutable Data Types :\n",
        "        - These are data types whose values can be modified after creation.\n",
        "        - Modifications happen in place without changing the object's identity (memory address).\n",
        "            - Examples : Lists, Dictionaries, Sets, Byte arrays\n",
        "\n",
        "\n",
        "  Immutable Data Types :\n",
        " - These are data types whose values cannot be changed after creation.\n",
        "- Any modification results in a new object being created with a different memory address.\n",
        "        Examples: Integers, Floats, Strings, Tuples, Booleans, Frozen sets\n",
        "\n",
        "\n",
        "                           Difference between Mutable & Immutable Data Types:\n",
        "              \n",
        "| Feature         | Mutable Data Types | Immutable Data Types |\n",
        "|---------------|----------------|----------------|\n",
        "| **Modifiable?** | Yes | No |\n",
        "| **Memory Address After Change?** | Remains the same | Changes (new object created) |\n",
        "| **Examples** | list, dict, set | int, str, tuple, float |\n",
        "| **Performance** | May have overhead due to in-place changes | More memory efficient in some cases |\n",
        "\n",
        ".\n",
        "\n",
        "3. **What are the main differences between lists and tuples in Python?**\n",
        "\n",
        "| Feature           | **List (`list`)** | **Tuple (`tuple`)** |\n",
        "|------------------|-----------------|-----------------|\n",
        "| **Mutability**   | Mutable (can be modified) | Immutable (cannot be modified) |\n",
        "| **Syntax**       | Defined using `[]` (square brackets) | Defined using `()` (parentheses) |\n",
        "| **Performance**  | Slower (due to mutability) | Faster (due to immutability) |\n",
        "| **Memory Usage** | Uses more memory | Uses less memory |\n",
        "| **Methods**      | Has more built-in methods (e.g., `append()`, `remove()`, `pop()`) | Fewer built-in methods (only `count()`, `index()`) |\n",
        "| **Use Case**     | Best for dynamic data that needs modification | Best for fixed data that shouldn't change |\n",
        ".\n",
        "\n",
        "\n",
        "4.  **Describe how dictionaries store data?**\n",
        "  - Dictionaries are a data structure in Python that store data as key-value pairs. They are unordered collections and are defined using curly braces `{}`. Keys must be unique and immutable, while values can be of any data type. Dictionaries are created using `{}` with key-value pairs separated by colons (`:`). Elements are accessed by referencing their keys using square brackets `[]`.\n",
        "\n",
        "\n",
        "5. **Why might you use a set instead of a list in Python?**\n",
        "  - You might use a set instead of a list in Python when you need to work with unique elements and perform set operations efficiently.  \n",
        "  - Sets are unordered collections of unique elements. They are useful when you need to work with distinct items and perform set operations like union, intersection, and difference.Sets are mutable, so you can add and remove elements, but the elements themselves must be immutable.  \n",
        "\n",
        "   **Key Advantages of Sets Over Lists:**  \n",
        "- Unique Elements – Sets ensure all elements are distinct, automatically removing duplicates.  \n",
        "- Fast Membership Checks – Checking if an item exists in a set is much faster (O(1)) compared to a list (O(n)).\n",
        "- Set Operations – Sets allow easy operations like union, intersection, and difference, which are useful for data comparisons.  \n",
        "- Mutability with Immutable Elements – While sets themselves are mutable (you can add or remove elements), the elements within must be immutable (e.g., numbers, strings, tuples).  \n",
        "\n",
        "6. **What is a string in Python, and how is it different from a list?**\n",
        "   - A string in Python is a sequence of characters enclosed in single (`'`), double (`\"`), or triple (`'''` or \"\"\"`) quotes. Strings are used to represent text and are immutable, meaning they cannot be changed after creation.  \n",
        "\n",
        "                          Differences Between Strings and Lists  \n",
        "\n",
        "| Feature        | String | List |\n",
        "|---------------|--------|------|\n",
        "| **Data Type**  | A sequence of characters | A collection of elements (can be of different types) |\n",
        "| **Mutability** | **Immutable** – Cannot be modified after creation | **Mutable** – Can be modified (add, remove, or change elements) |\n",
        "| **Element Type** | Only characters | Can contain any data type (numbers, strings, other lists, etc.) |\n",
        "| **Modification** | Cannot modify directly, but can create a new string | Elements can be changed in place |\n",
        "| **Usage** | Used for text processing | Used for storing collections of items |\n",
        "| **Operations** | Supports operations like slicing, concatenation (`+`), and repetition (`*`) | Supports indexing, appending (`.append()`), inserting (`.insert()`), and removing elements (`.remove()`) |\n",
        "\n",
        ".\n",
        "\n",
        "7. **How do tuples ensure data integrity in Python?**\n",
        "   - Tuples are similar to lists, but they are immutable. Once you create a tuple, you cannot change its content. This immutability makes tuples useful for situations where you want to ensure that the data remains constant.  \n",
        "\n",
        "  **How Tuples Ensure Data Integrity:**  \n",
        "    - **Prevents Accidental Modification** – Since tuples cannot be changed after creation, they protect data from unintended updates.  \n",
        "    - **Safe Data Storage** – Tuples are useful for storing fixed data, such as database records or configuration settings.  \n",
        "    - **Hashability** – Tuples can be used as dictionary keys and in sets, while lists cannot, ensuring reliable data representation.  \n",
        "    - **Performance Optimization** – Tuples are faster than lists due to their immutability, making them efficient for fixed data storage.  \n",
        "\n",
        "8. **What is a hash table, and how does it relate to dictionaries in Python?**\n",
        "   - A hash table is a data structure that stores key-value pairs using a hashing function. It allows for fast lookups, insertions, and deletions by mapping keys to specific memory locations.  \n",
        "  - In Python, dictionaries are implemented using hash tables. When you store a key-value pair in a dictionary:  \n",
        "     - The key is passed through a hash function to compute a unique hash value (an integer).  \n",
        "     - The hash value determines the index in an internal array where the value is stored.  \n",
        "     - Lookups, insertions, and deletions are efficient, with an average time complexity of O(1).  \n",
        "\n",
        "\n",
        "9. **Can lists contain different data types in Python?**\n",
        "   - A list is a flexible and dynamic data structure that can store a mix of different data types, including integers, floats, strings, booleans, other lists, tuples, dictionaries, and even functions.\n",
        "\n",
        "10. **Explain why strings are immutable in Python?**\n",
        "   - Strings in Python are immutable, meaning they cannot be changed after creation. This design ensures memory efficiency, as Python reuses identical strings to save space. It also allows strings to be hashed, making them valid dictionary keys and set elements. Immutability enhances data integrity and security, preventing accidental modifications in critical data like file paths and database queries. Additionally, it ensures thread safety, allowing strings to be safely shared between threads. Since modifying a string creates a new string rather than altering the original, Python maintains efficiency and reliability.\n",
        "\n",
        "11. **What advantages do dictionaries offer over lists for certain tasks?**\n",
        "   - **Fast lookup** – Dictionaries use a hash table, allowing O(1) time complexity for key-based access, while lists require O(n) search time.\n",
        "\n",
        "   - **Key-value pair structure** – Data is stored in key-value pairs, making it easier to retrieve specific items without relying on index positions.  \n",
        "   - **Better data organization** – Keys provide meaningful identifiers for values, improving code readability and data management.  \n",
        "   - **Efficient insertions and deletions** – Adding or removing elements in a dictionary is faster than in a list, especially for large datasets.  \n",
        "   - **Ideal for data mapping** – Useful for scenarios like storing user data, counting occurrences, caching, and lookups, where relationships between elements matter.  \n",
        "  -**No need for sequential access** – Unlike lists, dictionaries allow direct access to elements without iterating through all items.  \n",
        "\n",
        "12. **Describe a scenario where using a tuple would be preferable over a list?**\n",
        "   - A tuple would be preferable over a list in scenarios where data should remain constant and unchangeable.  \n",
        "\n",
        "    - **Example Scenario: Storing GPS Coordinates**\n",
        "\n",
        "       - Suppose we are developing a navigation app that stores latitude and longitude coordinates for specific locations. Since the coordinates should not change, using a tuple ensures data integrity.  \n",
        "\n",
        "\n",
        "          gps_location = (28.6139, 77.2090)  # Tuple storing latitude and longitude\n",
        "\n",
        "          # Attempting to modify will result in an error\n",
        "          # gps_location[0] = 29.0000  # TypeError: 'tuple' object does not support item assignment\n",
        "\n",
        "\n",
        "13. **How do sets handle duplicate values in Python?**\n",
        "    - In Python, sets automatically remove duplicate values, ensuring that all elements within a set are unique. When you add duplicate values to a set, Python ignores them rather than storing multiple copies.Since sets do not store duplicates, they are useful for tasks like removing repeated items, checking unique entries, and performing set operations such as union, intersection, and difference.\n",
        "\n",
        "14. **How does the “in” keyword work differently for lists and dictionaries?**\n",
        "   - The \"in\" keyword is used to check for membership in both lists and dictionaries, but it works differently for each data structure.  \n",
        "\n",
        "**`in` with Lists**  \n",
        "- Checks **if a value exists** in the list.  \n",
        "\n",
        "\n",
        "   - Example:  \n",
        "\n",
        "          my_list = [10, 20, 30, 40]\n",
        "          print(20 in my_list)  # Output: True\n",
        "          print(50 in my_list)  # Output: False\n",
        "\n",
        "\n",
        "\n",
        " **`in` with Dictionaries**  \n",
        "\n",
        "  - Checks for keys only, not values.  \n",
        "\n",
        "\n",
        "  - Example:  \n",
        "\n",
        "          my_dict = {\"name\": \"Alice\", \"age\": 25, \"city\": \"New York\"}\n",
        "          print(\"name\" in my_dict)   # Output: True  (Key exists)\n",
        "          print(\"Alice\" in my_dict)  # Output: False (Values are not checked)\n",
        "\n",
        "\n",
        "15. **Can you modify the elements of a tuple? Explain why or why not?**\n",
        "   -  No, you cannot modify the elements of a tuple in Python because tuples are immutable. This means that once a tuple is created, its elements cannot be changed, added, or removed. Unlike lists, which allow modification, tuples maintain their original structure throughout their lifetime.  \n",
        "\n",
        "     - Tuples are Immutable :\n",
        "\n",
        "        - **Fixed Data Storage** – Tuples are designed to store constant data that should not be altered, making them ideal for representing **fixed collections** such as database records or coordinates.  \n",
        "        - **Memory Efficiency** – Since tuples do not change, Python optimizes their storage, making them **faster and more memory-efficient** than lists.  \n",
        "        - **Hashability** – Because tuples are immutable, they can be used as **keys in dictionaries** or **elements in sets**, unlike lists.  \n",
        "        - **Data Integrity & Security** – Preventing modifications ensures that critical data remains intact and avoids accidental changes that could lead to bugs.  \n",
        "\n",
        "\n",
        "16. **What is a nested dictionary, and give an example of its use case?**\n",
        "    - A nested dictionary is a dictionary that contains one or more dictionaries as values. This structure allows data to be organized in a hierarchical manner, making it useful for representing complex relationships.  \n",
        "\n",
        "      **Example Use Case: Storing Student Records**  \n",
        "        - A school system can use a nested dictionary to store information about multiple students, where each student's data (like name, age, and grades) is stored in an inner dictionary.  \n",
        "\n",
        "\n",
        "           students = {\n",
        "    \"101\": {\"name\": \"Alice\", \"age\": 20, \"grades\": {\"Math\": 85, \"Science\": 90}},\n",
        "    \"102\": {\"name\": \"Bob\", \"age\": 22, \"grades\": {\"Math\": 78, \"Science\": 88}},\n",
        "    }\n",
        "\n",
        "    # Accessing student Bob's Science grade\n",
        "    print(students[\"102\"][\"grades\"][\"Science\"])  # Output: 88\n",
        "\n",
        "\n",
        "17. **Describe the time complexity of accessing elements in a dictionary?**\n",
        "   - In Python, dictionaries use a hash table for storing key-value pairs, which allows for fast access to elements. The time complexity depends on whether the operation is in the **average case** or **worst case**.\n",
        "\n",
        "     - **Average Case: O(1) (Constant Time)**  \n",
        "   - In most cases, accessing an element in a dictionary using a key (`dict[key]`) takes O(1) time.  \n",
        "   - This is because Python hashes the key and directly retrieves the associated value without iterating through all elements.\n",
        "\n",
        "   **Example:**  \n",
        "  \n",
        "         my_dict = {\"name\": \"Alice\", \"age\": 25, \"city\": \"New York\"}\n",
        "         print(my_dict[\"age\"])  # O(1) lookup\n",
        "  \n",
        "\n",
        "- **Worst Case: O(n) (Linear Time)**  \n",
        "   - In rare cases, hash collisions occur, meaning multiple keys get assigned the same hash value.  \n",
        "   - When this happens, Python resolves conflicts using a linked list or other structures, which may require scanning multiple elements before finding the correct value.  \n",
        "   - In extreme cases, if all keys collide, searching for a value could take O(n) time.\n",
        "\n",
        "\n",
        "- **Average case**: O(1) (very fast due to hashing).  \n",
        "- **Worst case**: O(n) (rare, only if many hash collisions occur).  \n",
        "\n",
        ".\n",
        "\n",
        "18. **In what situations are lists preferred over dictionaries?**\n",
        "   - When you need ordered elements\n",
        "   - When accessing items by index position\n",
        "   - When working with sequential or homogeneous data\n",
        "   - When performing sorting or frequent modifications\n",
        "\n",
        "      - If quick lookups and key-value mapping are required, dictionaries are better. Otherwise, lists are simpler, more memory-efficient, and easier to use for general collections.\n",
        "\n",
        "\n",
        "19. **Why are dictionaries considered unordered, and how does that affect data retrieval?**\n",
        "   - Dictionaries in Python were traditionally considered unordered because they store key-value pairs using a hash table, which does not maintain a predictable order of keys.\n",
        "\n",
        "     - This Affect Data Retrieval :  \n",
        "          - Unlike lists, where elements are accessed by index position, dictionaries retrieve values using keys.  \n",
        "          - In Python before 3.7, iterating over a dictionary could return items in any arbitrary order.  \n",
        "          - This made them unsuitable for tasks requiring a fixed sequence of elements.  \n",
        "          - Since dictionaries use hash tables, they retrieve values in O(1) time*on average, but not in sequential order like lists.  \n",
        "          - To process dictionary items in a specific order, sorting is required using `sorted()`.  \n",
        "  \n",
        "\n",
        "20. **Explain the difference between a list and a dictionary in terms of data retrieval.?**\n",
        "  - .\n",
        "\n",
        "\n",
        "| Feature            | List                          | Dictionary                     |\n",
        "|--------------------|-----------------------------|--------------------------------|\n",
        "| **Access Method**  | By **index position** (0-based) | By **key** (key-value pairs)  |\n",
        "| **Retrieval Speed** | O(1) for index lookup, O(n) for searching by value | O(1) on average (fast key-based lookup) |\n",
        "| **Lookup Type**   | Requires knowing the **index** | Uses **keys**, making lookups intuitive |\n",
        "| **Data Organization** | Ordered collection of elements | Unordered (but maintains insertion order in Python 3.7+) |\n",
        "| **Best for**       | Sequential data, ordered lists | Structured data, fast lookups |\n",
        "| **Example Retrieval** | `my_list[1]` → Retrieves value at index 1 | `my_dict[\"key\"]` → Retrieves value for \"key\" |\n",
        "\n",
        "\n",
        "\n"
      ],
      "metadata": {
        "id": "U7v-WOknt0cy"
      }
    },
    {
      "cell_type": "markdown",
      "source": [
        "#Practical Questions"
      ],
      "metadata": {
        "id": "SiJna2bcdc6g"
      }
    },
    {
      "cell_type": "code",
      "execution_count": null,
      "metadata": {
        "id": "NMehmbyttk05",
        "colab": {
          "base_uri": "https://localhost:8080/"
        },
        "outputId": "9c8de072-f050-478e-b84d-78efbadb7e25"
      },
      "outputs": [
        {
          "output_type": "stream",
          "name": "stdout",
          "text": [
            "dikshant\n"
          ]
        }
      ],
      "source": [
        "# Q1.  Write a code to create a string with your name and print it.\n",
        "\n",
        "strng = \"dikshant\"\n",
        "print(strng)"
      ]
    },
    {
      "cell_type": "code",
      "source": [
        " # Q2. Write a code to find the length of the string \"Hello World\".\n",
        "strng1 = \"Hello World\"\n",
        "len(strng1)"
      ],
      "metadata": {
        "colab": {
          "base_uri": "https://localhost:8080/"
        },
        "id": "Zz0wbszqPHMX",
        "outputId": "d975588f-a0c3-4ff4-d0a6-462eb10fb577"
      },
      "execution_count": null,
      "outputs": [
        {
          "output_type": "execute_result",
          "data": {
            "text/plain": [
              "11"
            ]
          },
          "metadata": {},
          "execution_count": 5
        }
      ]
    },
    {
      "cell_type": "code",
      "source": [
        "# Q3. Write a code to slice the first 3 characters from the string \"Python Programming\".\n",
        "\n",
        "strng3 = \"Python Programming\"\n",
        "strng3[0:3]"
      ],
      "metadata": {
        "id": "ybd8HJFNPgD9",
        "colab": {
          "base_uri": "https://localhost:8080/",
          "height": 36
        },
        "outputId": "7de456bf-f9f4-4a4e-fb91-92409c47ae11"
      },
      "execution_count": null,
      "outputs": [
        {
          "output_type": "execute_result",
          "data": {
            "text/plain": [
              "'Pyt'"
            ],
            "application/vnd.google.colaboratory.intrinsic+json": {
              "type": "string"
            }
          },
          "metadata": {},
          "execution_count": 3
        }
      ]
    },
    {
      "cell_type": "code",
      "source": [
        "# Q4.  Write a code to convert the string \"hello\" to uppercase.\n",
        "\n",
        "strng4 = \"hello\"\n",
        "strng4.upper()"
      ],
      "metadata": {
        "colab": {
          "base_uri": "https://localhost:8080/",
          "height": 36
        },
        "id": "cemoE2HDc-ZR",
        "outputId": "f09b8ffd-9ccc-45f5-ceec-3575e87b28e0"
      },
      "execution_count": null,
      "outputs": [
        {
          "output_type": "execute_result",
          "data": {
            "text/plain": [
              "'HELLO'"
            ],
            "application/vnd.google.colaboratory.intrinsic+json": {
              "type": "string"
            }
          },
          "metadata": {},
          "execution_count": 4
        }
      ]
    },
    {
      "cell_type": "code",
      "source": [
        " # Q5. Write a code to replace the word \"apple\" with \"orange\" in the string \"I like apple\".\n",
        "\n",
        " strng5 = \"I like apple\"\n",
        " strng5.replace(\"apple\",\"orange\")\n",
        " strng5"
      ],
      "metadata": {
        "colab": {
          "base_uri": "https://localhost:8080/",
          "height": 36
        },
        "id": "b-V6n5irdfrP",
        "outputId": "02ac1289-8c26-4109-fac2-e45b2a15fd77"
      },
      "execution_count": null,
      "outputs": [
        {
          "output_type": "execute_result",
          "data": {
            "text/plain": [
              "'I like apple'"
            ],
            "application/vnd.google.colaboratory.intrinsic+json": {
              "type": "string"
            }
          },
          "metadata": {},
          "execution_count": 7
        }
      ]
    },
    {
      "cell_type": "code",
      "source": [
        "# Q6. Write a code to create a list with numbers 1 to 5 and print it.\n",
        "\n",
        "list1 = [1,2,3,4,5]\n",
        "list1"
      ],
      "metadata": {
        "colab": {
          "base_uri": "https://localhost:8080/"
        },
        "id": "BdulMxFcd2FX",
        "outputId": "8258f0b9-3750-442e-a235-033d73dad044"
      },
      "execution_count": null,
      "outputs": [
        {
          "output_type": "execute_result",
          "data": {
            "text/plain": [
              "[1, 2, 3, 4, 5]"
            ]
          },
          "metadata": {},
          "execution_count": 8
        }
      ]
    },
    {
      "cell_type": "code",
      "source": [
        "# Q7. Write a code to append the number 10 to the list [1, 2, 3, 4].\n",
        "\n",
        "list2 = [1, 2, 3, 4]\n",
        "list2.append(10)\n",
        "list2"
      ],
      "metadata": {
        "colab": {
          "base_uri": "https://localhost:8080/"
        },
        "id": "8WqY7EXUeSpT",
        "outputId": "5fac603f-4d49-4a30-96b8-fb66801b8f20"
      },
      "execution_count": null,
      "outputs": [
        {
          "output_type": "execute_result",
          "data": {
            "text/plain": [
              "[1, 2, 3, 4, 10]"
            ]
          },
          "metadata": {},
          "execution_count": 9
        }
      ]
    },
    {
      "cell_type": "code",
      "source": [
        "# Q8. Write a code to remove the number 3 from the list [1, 2, 3, 4, 5].\n",
        "\n",
        "list3 = [1, 2, 3, 4, 5]\n",
        "list3.remove(3)\n",
        "list3"
      ],
      "metadata": {
        "colab": {
          "base_uri": "https://localhost:8080/"
        },
        "id": "SYldKRnaeha5",
        "outputId": "c3158719-e476-4d6c-e731-33f4f56fbd0a"
      },
      "execution_count": null,
      "outputs": [
        {
          "output_type": "execute_result",
          "data": {
            "text/plain": [
              "[1, 2, 4, 5]"
            ]
          },
          "metadata": {},
          "execution_count": 10
        }
      ]
    },
    {
      "cell_type": "code",
      "source": [
        "# Q9. Write a code to access the second element in the list ['a', 'b', 'c', 'd'].\n",
        "\n",
        "list4 = ['a', 'b', 'c', 'd']\n",
        "list4[1]"
      ],
      "metadata": {
        "colab": {
          "base_uri": "https://localhost:8080/",
          "height": 36
        },
        "id": "VCtkiBqJexsU",
        "outputId": "00f6db81-b47f-472b-bfd8-1b6d192dfc51"
      },
      "execution_count": null,
      "outputs": [
        {
          "output_type": "execute_result",
          "data": {
            "text/plain": [
              "'b'"
            ],
            "application/vnd.google.colaboratory.intrinsic+json": {
              "type": "string"
            }
          },
          "metadata": {},
          "execution_count": 13
        }
      ]
    },
    {
      "cell_type": "code",
      "source": [
        "# Q10. Write a code to reverse the list [10, 20, 30, 40, 50].\n",
        "\n",
        "list5 = [10, 20, 30, 40, 50]\n",
        "list5[::-1]"
      ],
      "metadata": {
        "colab": {
          "base_uri": "https://localhost:8080/"
        },
        "id": "OUbaECNte5V7",
        "outputId": "cae5034f-5cbc-4f5b-b6d5-959c0063469c"
      },
      "execution_count": null,
      "outputs": [
        {
          "output_type": "execute_result",
          "data": {
            "text/plain": [
              "[50, 40, 30, 20, 10]"
            ]
          },
          "metadata": {},
          "execution_count": 20
        }
      ]
    },
    {
      "cell_type": "code",
      "source": [
        "# Q11. Write a code to create a tuple with the elements 100, 200, 300 and print it.\n",
        "\n",
        "tuple1 = (100, 200, 300)\n",
        "tuple1"
      ],
      "metadata": {
        "colab": {
          "base_uri": "https://localhost:8080/"
        },
        "id": "wAUr4_S_fnlY",
        "outputId": "00ee7bb5-1140-46cb-8944-627cd65e2226"
      },
      "execution_count": null,
      "outputs": [
        {
          "output_type": "execute_result",
          "data": {
            "text/plain": [
              "(100, 200, 300)"
            ]
          },
          "metadata": {},
          "execution_count": 21
        }
      ]
    },
    {
      "cell_type": "code",
      "source": [
        "# Q12. Write a code to access the second-to-last element of the tuple ('red', 'green', 'blue', 'yellow').\n",
        "\n",
        "tuple2 = ('red', 'green', 'blue', 'yellow')\n",
        "tuple2[-2]\n"
      ],
      "metadata": {
        "colab": {
          "base_uri": "https://localhost:8080/",
          "height": 36
        },
        "id": "I9DHctECgJLm",
        "outputId": "9beb1502-31c1-4fc2-deab-f70e5a2d843f"
      },
      "execution_count": null,
      "outputs": [
        {
          "output_type": "execute_result",
          "data": {
            "text/plain": [
              "'blue'"
            ],
            "application/vnd.google.colaboratory.intrinsic+json": {
              "type": "string"
            }
          },
          "metadata": {},
          "execution_count": 22
        }
      ]
    },
    {
      "cell_type": "code",
      "source": [
        "# Q13.  Write a code to find the minimum number in the tuple (10, 20, 5, 15).\n",
        "\n",
        "tuple3 = (10, 20, 5, 15)\n",
        "min(tuple3)"
      ],
      "metadata": {
        "colab": {
          "base_uri": "https://localhost:8080/"
        },
        "id": "Y39BcZIZgYq5",
        "outputId": "c0cd3be5-2896-4ed0-c64b-6596e97fbdf3"
      },
      "execution_count": null,
      "outputs": [
        {
          "output_type": "execute_result",
          "data": {
            "text/plain": [
              "5"
            ]
          },
          "metadata": {},
          "execution_count": 23
        }
      ]
    },
    {
      "cell_type": "code",
      "source": [
        "# Q14. Write a code to find the index of the element \"cat\" in the tuple ('dog', 'cat', 'rabbit').\n",
        "\n",
        "tuple4 = ('dog', 'cat', 'rabbit')\n",
        "tuple4.index(\"cat\")"
      ],
      "metadata": {
        "colab": {
          "base_uri": "https://localhost:8080/"
        },
        "id": "j_S0FNnPgqe6",
        "outputId": "138b35bf-92a7-4e83-e832-e8230795e6e6"
      },
      "execution_count": null,
      "outputs": [
        {
          "output_type": "execute_result",
          "data": {
            "text/plain": [
              "1"
            ]
          },
          "metadata": {},
          "execution_count": 24
        }
      ]
    },
    {
      "cell_type": "code",
      "source": [
        "# Q15. Write a code to create a tuple containing three different fruits and check if \"kiwi\" is in it.\n",
        "\n",
        "tuple5 = (\"apple\",\"banana\",\"kiwi\")\n",
        "#\"kiwi\" in tuple5\n",
        "if \"kiwi\" in tuple5:\n",
        "  print(\"kiwi fruit is present\")\n",
        "else:\n",
        "    print(\"kiwi fruit is not present\")"
      ],
      "metadata": {
        "colab": {
          "base_uri": "https://localhost:8080/"
        },
        "id": "yBIFHil4g7hM",
        "outputId": "ed086c01-b67b-4a87-cef0-6af7127a6304"
      },
      "execution_count": null,
      "outputs": [
        {
          "output_type": "stream",
          "name": "stdout",
          "text": [
            "kiwi fruit is present\n"
          ]
        }
      ]
    },
    {
      "cell_type": "code",
      "source": [
        "# Q16. Write a code to create a set with the elements 'a', 'b', 'c' and print it.\n",
        "\n",
        "set1 = {\"a\",\"b\",\"c\"}\n",
        "print(set1)\n",
        "type(set1)"
      ],
      "metadata": {
        "colab": {
          "base_uri": "https://localhost:8080/"
        },
        "id": "44b_bQBgighI",
        "outputId": "021a698d-36e7-40b9-e820-1af287f104a5"
      },
      "execution_count": null,
      "outputs": [
        {
          "output_type": "stream",
          "name": "stdout",
          "text": [
            "{'a', 'b', 'c'}\n"
          ]
        },
        {
          "output_type": "execute_result",
          "data": {
            "text/plain": [
              "set"
            ]
          },
          "metadata": {},
          "execution_count": 40
        }
      ]
    },
    {
      "cell_type": "code",
      "source": [
        "# Q17. Write a code to clear all elements from the set {1, 2, 3, 4, 5}.\n",
        "\n",
        "set2 = {1, 2, 3, 4, 5}\n",
        "set2.clear()\n",
        "set2"
      ],
      "metadata": {
        "colab": {
          "base_uri": "https://localhost:8080/"
        },
        "id": "6WvVzTXLmRvh",
        "outputId": "2e46959b-0986-401a-dba9-3f562292d1c8"
      },
      "execution_count": null,
      "outputs": [
        {
          "output_type": "execute_result",
          "data": {
            "text/plain": [
              "set()"
            ]
          },
          "metadata": {},
          "execution_count": 46
        }
      ]
    },
    {
      "cell_type": "code",
      "source": [
        "# Q18.  Write a code to remove the element 4 from the set {1, 2, 3, 4}.\n",
        "\n",
        "set2 = {1, 2, 3, 4, 5}\n",
        "set2.remove(4)\n",
        "set2"
      ],
      "metadata": {
        "colab": {
          "base_uri": "https://localhost:8080/"
        },
        "id": "OfLt9Sb_mu0M",
        "outputId": "5bd00742-e6af-4fb2-9475-0fe94b26ceea"
      },
      "execution_count": null,
      "outputs": [
        {
          "output_type": "execute_result",
          "data": {
            "text/plain": [
              "{1, 2, 3, 5}"
            ]
          },
          "metadata": {},
          "execution_count": 2
        }
      ]
    },
    {
      "cell_type": "code",
      "source": [
        "# Q19.  Write a code to find the union of two sets {1, 2, 3} and {3, 4, 5}.\n",
        "\n",
        "set3 = {1,2,3}\n",
        "set4 = {3,4,5}\n",
        "set3 | set4"
      ],
      "metadata": {
        "colab": {
          "base_uri": "https://localhost:8080/"
        },
        "id": "R2baShO-TFy3",
        "outputId": "294b0597-f893-4a30-df42-9f2b52caae92"
      },
      "execution_count": null,
      "outputs": [
        {
          "output_type": "execute_result",
          "data": {
            "text/plain": [
              "{1, 2, 3, 4, 5}"
            ]
          },
          "metadata": {},
          "execution_count": 3
        }
      ]
    },
    {
      "cell_type": "code",
      "source": [
        "# Q20. Write a code to find the intersection of two sets {1, 2, 3} and {2, 3, 4}.\n",
        "\n",
        "set5 = {1,2,3}\n",
        "set6 = {2,3,4}\n",
        "\n",
        "set5 & set6"
      ],
      "metadata": {
        "colab": {
          "base_uri": "https://localhost:8080/"
        },
        "id": "NEMcj1v5Tkgm",
        "outputId": "2c38922c-64bb-44e9-9601-3e6dd59b9dee"
      },
      "execution_count": null,
      "outputs": [
        {
          "output_type": "execute_result",
          "data": {
            "text/plain": [
              "{2, 3}"
            ]
          },
          "metadata": {},
          "execution_count": 5
        }
      ]
    },
    {
      "cell_type": "code",
      "source": [
        "# Q21.  Write a code to create a dictionary with the keys \"name\", \"age\", and \"city\", and print it.\n",
        "\n",
        "dict1 = {\"name\" : \"Dikshant\", \"age\" : 22, \"city\" : \"Pune\"}\n",
        "dict1"
      ],
      "metadata": {
        "colab": {
          "base_uri": "https://localhost:8080/"
        },
        "id": "Tmpwg357UBCU",
        "outputId": "95860224-c2b1-4d0a-8b0f-e3ae1477e70b"
      },
      "execution_count": null,
      "outputs": [
        {
          "output_type": "execute_result",
          "data": {
            "text/plain": [
              "{'name': 'Dikshant', 'age': 22, 'city': 'Pune'}"
            ]
          },
          "metadata": {},
          "execution_count": 9
        }
      ]
    },
    {
      "cell_type": "code",
      "source": [
        "# Q22. Write a code to add a new key-value pair \"country\": \"USA\" to the dictionary {'name': 'John', 'age': 25}.\n",
        "\n",
        "dict2 = {'name': 'John', 'age': 25}\n",
        "dict2[\"country\"] = \"USA\"\n",
        "dict2"
      ],
      "metadata": {
        "colab": {
          "base_uri": "https://localhost:8080/"
        },
        "id": "v95K4idLUxJI",
        "outputId": "40589622-564a-4655-9085-0f83085e684d"
      },
      "execution_count": null,
      "outputs": [
        {
          "output_type": "execute_result",
          "data": {
            "text/plain": [
              "{'name': 'John', 'age': 25, 'country': 'USA'}"
            ]
          },
          "metadata": {},
          "execution_count": 10
        }
      ]
    },
    {
      "cell_type": "code",
      "source": [
        " # Q23. Write a code to access the value associated with the key \"name\" in the dictionary {'name': 'Alice', 'age': 30}.\n",
        "\n",
        " dict3 = {'name': 'Alice', 'age': 30}\n",
        " dict3[\"name\"]"
      ],
      "metadata": {
        "colab": {
          "base_uri": "https://localhost:8080/",
          "height": 36
        },
        "id": "GZf6tiLvVNPO",
        "outputId": "8126d74d-47d2-41ac-824d-5612dc808b17"
      },
      "execution_count": null,
      "outputs": [
        {
          "output_type": "execute_result",
          "data": {
            "text/plain": [
              "'Alice'"
            ],
            "application/vnd.google.colaboratory.intrinsic+json": {
              "type": "string"
            }
          },
          "metadata": {},
          "execution_count": 11
        }
      ]
    },
    {
      "cell_type": "code",
      "source": [
        "# Q24.  Write a code to remove the key \"age\" from the dictionary {'name': 'Bob', 'age': 22, 'city': 'New York'}.\n",
        "\n",
        "dict4 = {'name': 'Bob', 'age': 22, 'city': 'New York'}\n",
        "dict4.pop(\"age\")\n",
        "dict4"
      ],
      "metadata": {
        "colab": {
          "base_uri": "https://localhost:8080/"
        },
        "id": "CufUmA9GVdhn",
        "outputId": "4b7cd322-c0f4-479d-9599-9c09f102b30a"
      },
      "execution_count": null,
      "outputs": [
        {
          "output_type": "execute_result",
          "data": {
            "text/plain": [
              "{'name': 'Bob', 'city': 'New York'}"
            ]
          },
          "metadata": {},
          "execution_count": 14
        }
      ]
    },
    {
      "cell_type": "code",
      "source": [
        "# Q25. Write a code to check if the key \"city\" exists in the dictionary {'name': 'Alice', 'city': 'Paris'}.\n",
        "\n",
        "dict5 = {'name': 'Alice', 'city': 'Paris'}\n",
        "#\"city\" in dict5\n",
        "if \"city\" in dict5:\n",
        "  print(\"Key 'city' exists in the dictionary\")\n",
        "else:\n",
        "  print(\"Key 'city' not exists in the dictionary\")"
      ],
      "metadata": {
        "colab": {
          "base_uri": "https://localhost:8080/"
        },
        "id": "gt1vnYDVVstq",
        "outputId": "d9be4034-f3cb-4a67-860c-034f27149dc9"
      },
      "execution_count": null,
      "outputs": [
        {
          "output_type": "stream",
          "name": "stdout",
          "text": [
            "Key 'city' exists in the dictionary\n"
          ]
        }
      ]
    },
    {
      "cell_type": "code",
      "source": [
        "# Q26. Write a code to create a list, a tuple, and a dictionary, and print them all.\n",
        "\n",
        "my_list = [1, 2, 3, 4, 5] # Creating a list\n",
        "\n",
        "my_tuple = (\"apple\", \"banana\", \"cherry\") # Creating a tuple\n",
        "\n",
        "my_dict = {\"name\": \"Alice\", \"age\": 25, \"city\": \"Paris\"} # Creating a dictionary\n",
        "\n",
        "print(\"List:\", my_list)\n",
        "print(\"Tuple:\", my_tuple)\n",
        "print(\"Dictionary:\", my_dict)\n"
      ],
      "metadata": {
        "colab": {
          "base_uri": "https://localhost:8080/"
        },
        "id": "hw7ZBltNXLRM",
        "outputId": "d2e70270-ddff-49b1-81f8-0403ed4dd28f"
      },
      "execution_count": null,
      "outputs": [
        {
          "output_type": "stream",
          "name": "stdout",
          "text": [
            "List: [1, 2, 3, 4, 5]\n",
            "Tuple: ('apple', 'banana', 'cherry')\n",
            "Dictionary: {'name': 'Alice', 'age': 25, 'city': 'Paris'}\n"
          ]
        }
      ]
    },
    {
      "cell_type": "code",
      "source": [
        "# Q27. Write a code to create a list of 5 random numbers between 1 and 100, sort it in ascending order, and print the result.(replaced)\n",
        "\n",
        "import random  # Importing the random module\n",
        "\n",
        "random_numbers = random.sample(range(1,101),5) # Creating a list of 5 random numbers between 1 and 100\n",
        "\n",
        "random_numbers.sort() # Sorting the list in ascending order\n",
        "\n",
        "print(\"Sorted random numbers:\", random_numbers)\n",
        "\n"
      ],
      "metadata": {
        "colab": {
          "base_uri": "https://localhost:8080/"
        },
        "id": "nsJ7Yu0LYKx3",
        "outputId": "5f1e105d-2e8a-4d5c-ef6d-a8e8e31b7630"
      },
      "execution_count": null,
      "outputs": [
        {
          "output_type": "stream",
          "name": "stdout",
          "text": [
            "Sorted random numbers: [21, 59, 66, 72, 85]\n"
          ]
        }
      ]
    },
    {
      "cell_type": "code",
      "source": [
        "# Q28. Write a code to create a list with strings and print the element at the third index.\n",
        "\n",
        "list6 = [\"dikshant\",\"dipak\",\"bhoyar\", \"aditi\", \"shreya\"]\n",
        "list6[3]"
      ],
      "metadata": {
        "colab": {
          "base_uri": "https://localhost:8080/",
          "height": 36
        },
        "id": "CfSkUFbfZrhB",
        "outputId": "eb95bd0f-5859-4683-e4c7-41749df49f29"
      },
      "execution_count": null,
      "outputs": [
        {
          "output_type": "execute_result",
          "data": {
            "text/plain": [
              "'aditi'"
            ],
            "application/vnd.google.colaboratory.intrinsic+json": {
              "type": "string"
            }
          },
          "metadata": {},
          "execution_count": 25
        }
      ]
    },
    {
      "cell_type": "code",
      "source": [
        "# Q29.  Write a code to combine two dictionaries into one and print the result.\n",
        "\n",
        "dict6 = {'name': 'Alice', 'city': 'Paris'}\n",
        "dict7 = {'fruit': 'Banana', 'color': \"yellow\", 'weight': '1Kgs'}\n",
        "dict6.update(dict7)\n",
        "updated_dict = dict6\n",
        "print(updated_dict, end =\" \")"
      ],
      "metadata": {
        "colab": {
          "base_uri": "https://localhost:8080/"
        },
        "id": "RU6rG5djaGf6",
        "outputId": "16a30290-5f7e-4511-d916-e659faf7ef12"
      },
      "execution_count": null,
      "outputs": [
        {
          "output_type": "stream",
          "name": "stdout",
          "text": [
            "{'name': 'Alice', 'city': 'Paris', 'fruit': 'Banana', 'color': 'yellow', 'weight': '1Kgs'} "
          ]
        }
      ]
    },
    {
      "cell_type": "code",
      "source": [
        "# Q30. Write a code to convert a list of strings into a set.\n",
        "\n",
        "fruits = [\"apple\", \"banana\", \"cherry\", \"apple\", \"banana\"]\n",
        "fruits_set = set(fruits)\n",
        "print(fruits_set, type(fruits_set))\n"
      ],
      "metadata": {
        "colab": {
          "base_uri": "https://localhost:8080/"
        },
        "id": "Z-wCxnbvb_kE",
        "outputId": "c2bf1e6a-64fa-4439-c5d2-2fa742edd6fd"
      },
      "execution_count": null,
      "outputs": [
        {
          "output_type": "stream",
          "name": "stdout",
          "text": [
            "{'cherry', 'apple', 'banana'} <class 'set'>\n"
          ]
        }
      ]
    },
    {
      "cell_type": "code",
      "source": [],
      "metadata": {
        "id": "MOagIl8Ob7Ns"
      },
      "execution_count": null,
      "outputs": []
    }
  ]
}