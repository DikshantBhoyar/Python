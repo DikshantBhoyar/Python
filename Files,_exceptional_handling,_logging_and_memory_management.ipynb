{
  "nbformat": 4,
  "nbformat_minor": 0,
  "metadata": {
    "colab": {
      "provenance": []
    },
    "kernelspec": {
      "name": "python3",
      "display_name": "Python 3"
    },
    "language_info": {
      "name": "python"
    }
  },
  "cells": [
    {
      "cell_type": "markdown",
      "source": [
        "#Files, exceptional handling, logging and memory management\n",
        "\n",
        "**1.  What is the difference between interpreted and compiled languages?**\n",
        "\n",
        "\n",
        "| Aspect             | Interpreted Languages           | Compiled Languages               |\n",
        "|--------------------|---------------------------------|----------------------------------|\n",
        "| **Execution**        | Code is executed line-by-line during runtime. | Code is translated into machine code before execution. |\n",
        "| **Speed**             | Slower, since code is interpreted on the fly. | Faster, since code is precompiled. |\n",
        "| **Error Detection**    | Errors are detected during execution, making debugging easier. | Errors are detected at compile-time, requiring recompilation for fixes. |\n",
        "| **Portability**        | More portable, since the interpreter adapts to different systems. | Less portable; needs recompilation for different platforms. |\n",
        "| **Examples**          | Python, JavaScript, PHP, Ruby | C, C++, Rust, Go |\n",
        "| **Execution Process**  | No separate compilation step; code runs directly via the interpreter. | Requires a compilation step before execution. |\n",
        "| **Flexibility**         | More flexible; allows dynamic typing and runtime modifications. | Less flexible; requires strict syntax and type rules. |\n",
        "\n",
        "---\n",
        "\n",
        "**2.What is exception handling in Python?**\n",
        "   - Exception handling in Python is a mechanism that allows you to manage and respond to unexpected errors that may occur during program execution. It ensures your code doesn't crash abruptly and provides a way to handle such errors gracefully.\n",
        "\n",
        "      - Concepts in Exception Handling:\n",
        "- try: The code that may raise an exception is placed inside the `try` block.  \n",
        "- except: The code to handle the exception is written in the `except` block.  \n",
        "- else: Code inside the `else` block runs if no exception occurs.  \n",
        "- finally: Code inside the `finally` block always runs, regardless of whether an exception occurred or not.  \n",
        "\n",
        "- Example:\n",
        "```\n",
        "try:\n",
        "    num = int(input(\"Enter a number: \"))\n",
        "    result = 10 / num\n",
        "    print(\"Result:\", result)\n",
        "except ZeroDivisionError:\n",
        "    print(\"Error: Division by zero is not allowed.\")\n",
        "except ValueError:\n",
        "    print(\"Error: Invalid input, please enter a number.\")\n",
        "else:\n",
        "    print(\"No errors occurred!\")\n",
        "finally:\n",
        "    print(\"Execution completed.\")\n",
        "```\n",
        "\n",
        "- Output Scenarios:  \n",
        " - Input: 5 → Result: 2.0 (No error)  \n",
        " - Input: 0 → Error: Division by zero is not allowed.  \n",
        " - Input: \"abc\" → Error: Invalid input, please enter a number.  \n",
        "\n",
        "---\n",
        " **3. What is the purpose of the finally block in exception handling?**\n",
        "  - The \"finally\" block in Python is used to run code no matter what happens — whether an error occurs or not. It is often used to clean up resources like closing files or connections.  \n",
        "\n",
        "- Example:\n",
        "```\n",
        "file = None  \n",
        "try:\n",
        "    file = open(\"data.txt\", \"r\")\n",
        "    print(file.read())\n",
        "except FileNotFoundError:\n",
        "    print(\"File not found.\")\n",
        "finally:\n",
        "    if file:\n",
        "        print(\"Closing file...\")\n",
        "        file.close()\n",
        "```\n",
        "\n",
        "- In this example:  \n",
        " - If the file exists, it prints the content and then closes the file.  \n",
        " - If the file is missing, it shows an error but still closes the file if it was opened.  \n",
        "\n",
        "- The \"finally\" block ensures cleanup happens every time.\n",
        "\n",
        "\n"
      ],
      "metadata": {
        "id": "uinpPcnPFGhj"
      }
    },
    {
      "cell_type": "markdown",
      "source": [
        "---\n"
      ],
      "metadata": {
        "id": "dHZUYzDBNcU9"
      }
    },
    {
      "cell_type": "markdown",
      "source": [
        "**4.What is logging in Python?**\n",
        "   - Logging in Python is a way to track events that happen while your code runs. It helps you record messages about your program's status, errors, or important events for debugging and monitoring.  \n",
        "\n",
        "   - Why Use Logging?\n",
        "- Helps identify issues without printing directly to the console.  \n",
        "- Provides different levels of importance for messages.  \n",
        "- Can save logs to files for future reference.  \n",
        "\n",
        "   - Common Logging Levels:\n",
        "- DEBUG — Detailed information for diagnosing problems.  \n",
        "- INFO — General information about the program's progress.  \n",
        "- WARNING — Indicates something unexpected may happen.  \n",
        "- ERROR — Reports an error that caused some issue.  \n",
        "- CRITICAL — Indicates a serious error that may stop the program.  \n",
        "\n",
        "- Example :\n",
        "```\n",
        "import logging\n",
        "logging.basicConfig(level=logging.INFO, format='%(levelname)s: %(message)s')\n",
        "def divide(a, b):\n",
        "    try:\n",
        "        result = a / b\n",
        "        logging.info(f\"Division successful: {result}\")\n",
        "        return result\n",
        "    except ZeroDivisionError:\n",
        "        logging.error(\"Cannot divide by zero!\")\n",
        "    except Exception as e:\n",
        "        logging.critical(f\"Unexpected error: {e}\")\n",
        "divide(10, 2)\n",
        "divide(10, 0)\n",
        "```\n",
        "\n",
        "- Output:\n",
        "```\n",
        "INFO: Division successful: 5.0  \n",
        "ERROR: Cannot divide by zero!  \n",
        "```\n",
        "\n",
        "---\n",
        "**5.  What is the significance of the __del__ method in Python?**\n",
        "   - The `__del__` method in Python is called the \"destructor\" method. It is automatically invoked when an object is about to be destroyed (usually when it goes out of scope or its reference count reaches zero).  \n",
        "\n",
        "   - Purpose of `__del__` Method:\n",
        "- Used to perform cleanup tasks like closing files, releasing network connections, or freeing resources before the object is deleted.  \n",
        "- Ensures proper resource management in classes.  \n",
        "\n",
        "- Example Code :\n",
        "```\n",
        "class FileHandler:\n",
        "    def __init__(self, filename):\n",
        "        self.file = open(filename, 'w')\n",
        "        print(\"File opened.\")\n",
        "    \n",
        "    def __del__(self):\n",
        "        self.file.close()\n",
        "        print(\"File closed.\")\n",
        "handler = FileHandler(\"example.txt\") # Creating an object\n",
        "del handler  # Deleting the object\n",
        "```\n",
        "\n",
        "- Output:\n",
        "```\n",
        "File opened.  \n",
        "File closed.  \n",
        "```\n",
        "\n",
        "---\n",
        "\n",
        "**6. What is the difference between import and from ... import in Python?**\n",
        "  \n",
        "\n",
        "| Aspect            | `import`                            | `from ... import`                     |\n",
        "|--------------------|------------------------------------|----------------------------------------|\n",
        "| **Syntax**           | `import module_name`               | `from module_name import item`         |\n",
        "| **Usage**            | Access functions or variables using `module_name.item` | Access functions or variables directly by name |\n",
        "| **Namespace Control**| Keeps the imported module's namespace separate. | Imports specific items directly, reducing the need for `module_name.` prefix. |\n",
        "| **Example**           | `import math` → `math.sqrt(16)`   | `from math import sqrt` → `sqrt(16)`   |\n",
        "| **Risk of Conflicts** | Less risk, as names are prefixed with the module name. | Higher risk, especially if the imported name matches an existing variable. |\n",
        "\n",
        "---\n"
      ],
      "metadata": {
        "id": "Y-NUUMJxBed5"
      }
    },
    {
      "cell_type": "markdown",
      "source": [
        "**7. How can you handle multiple exceptions in Python?**\n",
        "- Multiple \"except\" Blocks :  \n",
        "   - We can specify different \"except\" blocks for different exception types.  \n",
        "```\n",
        "try:\n",
        "    num = int(input(\"Enter a number: \"))\n",
        "    result = 10 / num\n",
        "except ValueError:\n",
        "    print(\"Invalid input! Please enter a valid number.\")\n",
        "except ZeroDivisionError:\n",
        "    print(\"Division by zero is not allowed.\")\n",
        "```\n",
        "\n",
        "- Single \"except\" Block with Multiple Exceptions :\n",
        "  - We can catch multiple exceptions in a single \"except\" block by using a tuple.  \n",
        "```\n",
        "try:\n",
        "    num = int(input(\"Enter a number: \"))\n",
        "    result = 10 / num\n",
        "except (ValueError, ZeroDivisionError) as e:\n",
        "    print(f\"Error occurred: {e}\")\n",
        "```\n",
        "\n",
        "- Using \"Exception\" for General Error Handling :\n",
        "\n",
        "  - To catch any unexpected errors, we can use `Exception`.  \n",
        "```\n",
        "try:\n",
        "    result = 10 / int(\"text\")\n",
        "except Exception as e:\n",
        "    print(f\"An unexpected error occurred: {e}\")\n",
        "```\n",
        "\n",
        "\n",
        "---\n",
        "\n",
        "\n",
        "**8. What is the purpose of the with statement when handling files in Python?**\n",
        "   - The \"with\" statement in Python is used for \"resource management\", especially when working with files. It ensures that resources like files are properly opened and closed, even if an error occurs during execution.  \n",
        "\n",
        "   - Why Use the `with` Statement?\n",
        "- Automatic Cleanup: It automatically closes the file after the code inside the block is executed.  \n",
        "- Cleaner Code: No need to explicitly call `close()`.  \n",
        "- Exception Safety: Ensures the file closes even if an error occurs.  \n",
        "\n",
        "- Example With `with` Statement:\n",
        "\n",
        "```python\n",
        "with open(\"example.txt\", \"r\") as file:\n",
        "    content = file.read()\n",
        "    print(content)\n",
        "# No need to call file.close() — it's handled automatically\n",
        "```\n",
        "\n",
        "---\n",
        "\n",
        "**9. What is the difference between multithreading and multiprocessing?**\n",
        "   \n",
        "\n",
        "| Aspect            | Multithreading                         | Multiprocessing                         |\n",
        "|-------------------|----------------------------------------|------------------------------------------|\n",
        "| **Definition**       | Uses multiple **threads** within a single process. | Uses multiple **processes**, each with its own memory space. |\n",
        "| **Execution**         | Threads share the same memory space. | Each process runs independently with its own memory. |\n",
        "| **Performance**        | Best for **I/O-bound tasks** (e.g., file handling, network requests). | Best for **CPU-bound tasks** (e.g., data processing, calculations). |\n",
        "| **Concurrency/Parallelism** | Provides **concurrency** (tasks appear to run simultaneously). | Provides **parallelism** (tasks run simultaneously on multiple CPU cores). |\n",
        "| **GIL (Global Interpreter Lock)** | Affected by Python's GIL, which allows only one thread to run at a time. | Not affected by GIL; true parallel execution is possible. |\n",
        "| **Resource Usage**     | Uses less memory as threads share data. | Uses more memory as each process has its own memory space. |\n",
        "| **Example Module**     | `threading` module. | `multiprocessing` module. |\n",
        "\n",
        "  - When to Use What?\n",
        "- Use \"multithreading\" for tasks that involve \"waiting\" (e.g., web scraping, I/O operations).  \n",
        "- Use \"multiprocessing\" for tasks that require \"intensive computation\" (e.g., data analysis, image processing).  \n",
        "\n",
        "---\n",
        "**10.  What are the advantages of using logging in a program?**\n",
        "  - Better Debugging and Tracking :\n",
        "- Logs provide detailed insights into how the program runs, making it easier to identify issues.  \n",
        "- Unlike `print()`, logs can include timestamps, error levels, and custom messages for better clarity.  \n",
        "\n",
        "  - Flexible Output Options :\n",
        "- Logs can be directed to files, console, or even remote servers.  \n",
        "- This makes it easier to track errors in both development and production environments.  \n",
        "\n",
        "  - Controlled Logging Levels :\n",
        "- Python’s logging module supports different levels like DEBUG, INFO, WARNING, ERROR, and CRITICAL, helping you control what kind of information gets logged.  \n",
        "\n",
        "  - Improved Code Maintenance :\n",
        "- Logging statements are more structured and professional than scattered `print()` statements.  \n",
        "- This improves readability and makes future updates easier.  \n",
        "\n",
        "  - Performance Monitoring :\n",
        "- By recording execution details, you can analyze performance bottlenecks and optimize code efficiently.  \n",
        "\n",
        "  - Error Recovery Support :\n",
        "- Logs can provide valuable context when handling unexpected crashes, helping you restore program flow faster.  \n",
        "\n",
        "- Example :  \n",
        "```\n",
        "import logging\n",
        "logging.basicConfig(filename='app.log', level=logging.INFO)\n",
        "def divide(a, b):\n",
        "    try:\n",
        "        result = a / b\n",
        "        logging.info(f\"Division successful: {result}\")\n",
        "        return result\n",
        "    except ZeroDivisionError:\n",
        "        logging.error(\"Error: Division by zero attempted.\")\n",
        "    except Exception as e:\n",
        "        logging.critical(f\"Unexpected error: {e}\")\n",
        "divide(10, 2)\n",
        "divide(10, 0)\n",
        "```\n",
        "---\n"
      ],
      "metadata": {
        "id": "E6zulRNnEA1Y"
      }
    },
    {
      "cell_type": "markdown",
      "source": [
        "**11.  What is memory management in Python?**\n",
        "   - Memory management in Python refers to the process of efficiently allocating, tracking, and freeing memory during program execution. Python’s memory management system handles this automatically using several built-in mechanisms.\n",
        "\n",
        "  - Memory management in Python is automatic and efficient, handled by:\n",
        "\n",
        "          - Reference Counting: Tracks object references; deletes objects when count reaches zero.  \n",
        "          - Garbage Collection: Cleans up circular references automatically.  \n",
        "          - Private Heap: Python stores all objects in its own managed memory space.  \n",
        "          - Memory Pools: Python optimizes memory by reusing common objects like integers and strings.  \n",
        "\n",
        "---\n",
        "**12. What are the basic steps involved in exception handling in Python?**\n",
        "  - The basic steps involved in exception handling in Python are:  \n",
        "- Try Block: Write the code that may raise an exception inside a `try` block.  \n",
        "- Except Block: Handle the exception using one or more `except` blocks.  \n",
        "- Else Block (Optional): Code inside the `else` block runs if no exception occurs.  \n",
        "- Finally Block (Optional): The `finally` block runs no matter what, ideal for cleanup tasks.  \n",
        "\n",
        "- Example:  \n",
        "```\n",
        "try:\n",
        "    num = int(input(\"Enter a number: \"))\n",
        "    result = 10 / num\n",
        "except ValueError:\n",
        "    print(\"Invalid input! Please enter a number.\")\n",
        "except ZeroDivisionError:\n",
        "    print(\"Division by zero is not allowed.\")\n",
        "else:\n",
        "    print(\"Result:\", result)\n",
        "finally:\n",
        "    print(\"Execution complete.\")\n",
        "```\n",
        "---\n",
        "**13. Why is memory management important in Python?**\n",
        "  - Memory management is important in Python because it ensures efficient use of system resources, improving performance and stability. Key reasons include:  \n",
        "- Optimal Resource Utilization: Prevents excessive memory consumption by automatically freeing unused objects.  \n",
        "- Prevents Memory Leaks: Proper management reduces the risk of memory leaks caused by unreferenced objects remaining in memory.  \n",
        "- Improved Performance: Efficient memory handling ensures faster execution and better responsiveness.  \n",
        "- Automatic Cleanup: Python’s garbage collector handles object deletion, simplifying code maintenance.  \n",
        "- Scalability: Efficient memory management is crucial for handling large datasets and complex applications.  \n",
        "\n",
        "---\n",
        "**14. What is the role of try and except in exception handling?**\n",
        "- try Block: Contains the code that may raise an exception. Python runs this code first.  \n",
        "- except Block: Handles the exception if an error occurs in the `try` block. This prevents the program from crashing.  \n",
        "\n",
        "- Example:  \n",
        "```\n",
        "try:\n",
        "    result = 10 / int(input(\"Enter a number: \"))\n",
        "    print(\"Result:\", result)\n",
        "except ValueError:\n",
        "    print(\"Invalid input! Please enter a valid number.\")\n",
        "except ZeroDivisionError:\n",
        "    print(\"Division by zero is not allowed.\")\n",
        "```\n",
        "\n",
        "\n",
        " - In this example:  \n",
        "- The `try` block attempts to divide a number by the user's input.  \n",
        "- If the user enters a non-numeric value, `ValueError` is caught.  \n",
        "- If the user enters zero, `ZeroDivisionError` is caught.  \n",
        "\n",
        "---\n",
        "**15. How does Python's garbage collection system work?**\n",
        "   - Python's garbage collection system automatically manages memory by identifying and freeing unused objects. It works through the following mechanisms:  \n",
        "\n",
        "- Reference Counting:  \n",
        "  - Each object has a reference count that tracks how many variables refer to it.  \n",
        "  - When the reference count reaches zero, the object is deleted.  \n",
        "\n",
        "- Example:  \n",
        "```\n",
        "import sys\n",
        "x = [1, 2, 3]   # Reference count = 1\n",
        "y = x            # Reference count = 2\n",
        "del x             # Reference count = 1\n",
        "del y             # Reference count = 0 >>> Object deleted\n",
        "```\n",
        "\n",
        "- Garbage Collector (gc Module):  \n",
        "   - Python’s gc module handles objects involved in circular references (where objects reference each other, making reference counting insufficient).  \n",
        "   - The garbage collector automatically detects and clears these objects.  \n",
        "\n",
        "- Example:  \n",
        "```\n",
        "import gc\n",
        "class Sample:\n",
        "    def __del__(self):\n",
        "        print(\"Object destroyed\")\n",
        "a = Sample()\n",
        "b = Sample()\n",
        "a.ref = b  \n",
        "b.ref = a  # Circular reference\n",
        "del a  \n",
        "del b  \n",
        "gc.collect()  # Forces garbage collection\n",
        "```\n",
        "\n",
        "- Generational Garbage Collection:  \n",
        "   - Python groups objects into three generations based on their lifespan.  \n",
        "   - New objects start in Generation 0 and are promoted if they survive collection.  \n",
        "   - Frequent cleanup occurs in Generation 0, while older generations are collected less often for efficiency.  \n",
        "\n",
        "---\n",
        "**16. What is the purpose of the else block in exception handling?**\n",
        "  - The \"else\" block in Python's exception handling is used to define code that should run \"only if no exceptions occur\" in the `try` block.  \n",
        "\n",
        "  - Purpose:  \n",
        "- Ensures that certain code executes only when the `try` block runs successfully.  \n",
        "- Helps separate normal logic from error-handling logic, improving code clarity.  \n",
        "\n",
        "- Example:  \n",
        "```\n",
        "try:\n",
        "    num = int(input(\"Enter a number: \"))\n",
        "    result = 10 / num\n",
        "except ValueError:\n",
        "    print(\"Invalid input! Please enter a number.\")\n",
        "except ZeroDivisionError:\n",
        "    print(\"Division by zero is not allowed.\")\n",
        "else:\n",
        "    print(\"Result:\", result)  # Runs only if no exceptions occur\n",
        "```\n",
        "\n",
        "- In this example:  \n",
        "  - If no error occurs, the \"else\" block prints the result.  \n",
        "  - If an error happens, the \"else\" block is skipped.  \n",
        "\n",
        "---\n",
        "**17. What are the common logging levels in Python?**\n",
        "   - Python’s `logging` module provides five common logging levels to indicate the severity of events in your program:  \n",
        "\n",
        "- DEBUG (Level 10) :\n",
        "   - Used for detailed diagnostic information, useful during development.  \n",
        "   - Example: Tracking variable values or function calls.  \n",
        "\n",
        "- INFO (Level 20):  \n",
        "   - Used to confirm that the program is working as expected.  \n",
        "   - Example: Successful database connection or process completion.  \n",
        "\n",
        "- WARNING (Level 30) :  \n",
        "   - Indicates a potential issue that doesn’t interrupt the program but may require attention.  \n",
        "   - Example: Low disk space or deprecated features.  \n",
        "\n",
        "- ERROR (Level 40)  :\n",
        "   - Indicates a serious problem that has caused a part of the program to fail.  \n",
        "   - Example: File not found or failed API request.  \n",
        "\n",
        "- CRITICAL (Level 50)  :\n",
        "   - Indicates a severe error that may force the program to stop running.  \n",
        "   - Example: Hardware failure or system crash.  \n",
        "\n",
        "- Example :  \n",
        "```\n",
        "import logging\n",
        "logging.basicConfig(level=logging.DEBUG)\n",
        "logging.debug(\"This is a debug message.\")\n",
        "logging.info(\"This is an info message.\")\n",
        "logging.warning(\"This is a warning message.\")\n",
        "logging.error(\"This is an error message.\")\n",
        "logging.critical(\"This is a critical message.\")\n",
        "```\n",
        "\n",
        "----\n",
        "**18.  What is the difference between os.fork() and multiprocessing in Python?**\n",
        "   \n",
        "\n",
        "| Aspect               | `os.fork()`                   | `multiprocessing`                   |\n",
        "|----------------------|-------------------------------|--------------------------------------|\n",
        "| **Functionality**      | Creates a child process by duplicating the current process. | Provides a higher-level interface for creating and managing processes. |\n",
        "| **Platform Support**   | Available only on Unix-like systems (Linux, macOS). | Cross-platform (works on Windows, Linux, and macOS). |\n",
        "| **Complexity**         | Requires manual handling of parent and child logic. | Easier to implement with built-in methods for process control. |\n",
        "| **Data Sharing**        | Inherits the parent’s memory space; changes made after forking are independent. | Provides `Queue`, `Pipe`, and `Value` for safe data sharing. |\n",
        "| **Process Management** | Limited control over process management. | Offers features like process pools, queues, and shared memory. |\n",
        "| **Best Use Case**       | Suitable for low-level, Unix-specific process handling. | Ideal for cross-platform, complex parallel processing tasks. |\n",
        "\n",
        "- Example of \"os.fork()\":\n",
        "```\n",
        "import os\n",
        "def child_process():\n",
        "    print(\"Child process running\")\n",
        "if os.fork() == 0:\n",
        "    child_process()     # Output : \"Child process running\"\n",
        "else:\n",
        "    print(\"Parent process running\")  # Output : \"Parent process running\"\n",
        "```\n",
        "\n",
        "- Example of \"multiprocessing\":\n",
        "```python\n",
        "from multiprocessing import Process\n",
        "def worker():\n",
        "    print(\"Worker process running\")\n",
        "if __name__ == \"__main__\":\n",
        "    p = Process(target=worker)\n",
        "    p.start()\n",
        "    p.join()     # Output: \"Worker process running\"\n",
        "```\n",
        "\n",
        "---\n"
      ],
      "metadata": {
        "id": "4mtUhQe-Ju61"
      }
    },
    {
      "cell_type": "markdown",
      "source": [
        "**19. What is the importance of closing a file in Python?**\n",
        "   - Closing a file in Python is important for several reasons:\n",
        "\n",
        "- Resource Management:  \n",
        "   - When a file is open, it consumes system resources. Closing it ensures these resources are released.\n",
        "\n",
        "- Data Integrity:  \n",
        "   - Data may be buffered in memory before being written to the file. Closing the file ensures all data is properly saved.\n",
        "\n",
        "- Prevents File Corruption:  \n",
        "   - If a program terminates unexpectedly without closing the file, data loss or corruption can occur.\n",
        "\n",
        "- Access to Other Programs:  \n",
        "   - Some operating systems may lock a file while it's open. Closing the file allows other processes to access it.\n",
        "\n",
        "- Best Practice:  \n",
        "   - Proper file closure improves code readability and prevents potential issues.\n",
        "\n",
        "- Example:\n",
        "```\n",
        "file = open(\"example.txt\", \"w\")\n",
        "file.write(\"Hello, World!\")\n",
        "file.close()\n",
        "```\n",
        "\n",
        "- using the `with` statement is recommended as it automatically closes the file:\n",
        "\n",
        "```\n",
        "with open(\"example.txt\", \"w\") as file:\n",
        "    file.write(\"Hello, World!\")\n",
        "```\n",
        "\n",
        "----\n",
        "**20. What is the difference between file.read() and file.readline() in Python?**\n",
        "\n",
        "\n",
        "| Feature             | `file.read()`                      | `file.readline()`                  |\n",
        "|---------------------|------------------------------------|------------------------------------|\n",
        "| **Reading Behavior**  | Reads the entire file as a single string. | Reads one line at a time as a string. |\n",
        "| **Usage**             | Suitable for reading full content or large text at once. | Best for reading files line-by-line efficiently. |\n",
        "| **Performance**        | May consume more memory for large files. | More memory-efficient for large files. |\n",
        "| **Output**             | Includes newline characters (`\\n`) if present. | Stops reading after encountering a newline (`\\n`). |\n",
        "\n",
        "- Example of \"file.read()\"\n",
        "```\n",
        "with open(\"example.txt\", \"r\") as file:\n",
        "    content = file.read()  \n",
        "    print(content)  \n",
        "```\n",
        "Output:\n",
        "```\n",
        "Hello, World!\n",
        "Welcome to Python.\n",
        "```\n",
        "\n",
        "---\n",
        "\n",
        "- Example of `file.readline()`\n",
        "```\n",
        "with open(\"example.txt\", \"r\") as file:\n",
        "    line1 = file.readline()  \n",
        "    print(line1)  \n",
        "```\n",
        "Output:\n",
        "```\n",
        "Hello, World!\n",
        "```\n",
        "\n",
        "---\n",
        "**21. What is the logging module in Python used for?**\n",
        "   - The `logging` module in Python is used for tracking events that happen during the execution of a program. It provides a flexible way to log messages for debugging, monitoring, and error tracking.\n",
        "   \n",
        "   - Features :\n",
        "- Records messages with different severity levels (e.g., DEBUG, INFO, WARNING, ERROR, CRITICAL).  \n",
        "- Allows output to various destinations such as console, files, or remote servers.  \n",
        "- Helps identify issues without interrupting the program’s flow.  \n",
        "\n",
        "- Example :\n",
        "```\n",
        "import logging\n",
        "logging.basicConfig(level=logging.INFO)\n",
        "logging.info(\"This is an info message.\")\n",
        "logging.warning(\"This is a warning message.\")\n",
        "logging.error(\"This is an error message.\")\n",
        "```\n",
        "\n",
        "Output:\n",
        "```\n",
        "INFO:root:This is an info message.\n",
        "WARNING:root:This is a warning message.\n",
        "ERROR:root:This is an error message.\n",
        "```\n",
        "----\n",
        "**22.  What is the os module in Python used for in file handling?**\n",
        "  - The \"os\" module in Python is used for interacting with the operating system, including file handling operations such as creating, deleting, and managing files and directories.\n",
        "\n",
        " - Common Uses in File Handling:\n",
        "\n",
        "- Checking if a File Exists  \n",
        "```\n",
        "import os\n",
        "print(os.path.exists(\"example.txt\"))  # True if the file exists\n",
        "```\n",
        "\n",
        "- Creating a Directory  \n",
        "```\n",
        "os.mkdir(\"new_folder\")  # Creates a new directory\n",
        "```\n",
        "\n",
        "- Removing a File  \n",
        "```\n",
        "os.remove(\"example.txt\")  # Deletes a file\n",
        "```\n",
        "\n",
        "- Removing a Directory  \n",
        "```\n",
        "os.rmdir(\"new_folder\")  # Deletes an empty directory\n",
        "```\n",
        "\n",
        "- Listing Files in a Directory  \n",
        "```\n",
        "print(os.listdir(\".\"))  # Lists files in the current directory\n",
        "```\n",
        "\n",
        "- Getting the Current Working Directory  \n",
        "```\n",
        "print(os.getcwd())  # Prints the current working directory\n",
        "```\n",
        "\n",
        "----\n",
        "**23.  What are the challenges associated with memory management in Python?**\n",
        "  - Python's memory management is efficient but comes with certain challenges :\n",
        "\n",
        "- Garbage Collection Overhead :\n",
        "   - The automatic garbage collector may introduce performance overhead, especially when cleaning up cyclic references.  \n",
        "\n",
        "- Memory Leaks  :\n",
        "   - Improper handling of references (e.g., circular references or forgotten object deletion) can lead to memory leaks.  \n",
        "\n",
        "- Fragmentation :\n",
        "   - Frequent allocation and deallocation of memory can cause fragmentation, reducing performance over time.  \n",
        "\n",
        "- Global Interpreter Lock (GIL)  :\n",
        "   - The GIL restricts Python threads from executing simultaneously in multi-core environments, limiting true parallel execution.  \n",
        "\n",
        "- Object Retention  :\n",
        "   - Objects with references held longer than needed may consume extra memory.  \n",
        "\n",
        "- Limited Control  :\n",
        "   - Python abstracts low-level memory management, giving developers less direct control over memory allocation.  \n",
        "\n",
        "\n",
        "\n",
        "----\n",
        "**24. How do you raise an exception manually in Python?**\n",
        "   - In Python, we can manually raise an exception using the \"raise\" keyword. This is useful when we want to signal an error or handle unexpected conditions in our code.  \n",
        "\n",
        "- Syntax  \n",
        "```\n",
        "raise ExceptionType(\"Error message\")\n",
        "```\n",
        "\n",
        "- Example   :\n",
        "```\n",
        "def divide(a, b):\n",
        "    if b == 0:\n",
        "        raise ValueError(\"Division by zero is not allowed\")\n",
        "    return a / b\n",
        "try:\n",
        "    result = divide(10, 0)\n",
        "except ValueError as e:\n",
        "    print(f\"Error: {e}\")\n",
        "```\n",
        "\n",
        "Output:\n",
        "```\n",
        "Error: Division by zero is not allowed\n",
        "```\n",
        "\n",
        "---\n",
        "**25.  Why is it important to use multithreading in certain applications?**\n",
        "   - Multithreading is important in certain applications because it enhances performance and improves user experience by allowing multiple tasks to run concurrently.\n",
        "   \n",
        "  - Benefits include :  \n",
        "\n",
        "- Improved Responsiveness  \n",
        "   - In GUI applications, multithreading keeps the interface responsive while background tasks run.  \n",
        "\n",
        "- Efficient I/O Operations  \n",
        "   - Multithreading is ideal for applications that require frequent input/output operations, such as network requests or file handling.  \n",
        "\n",
        "- Resource Sharing  \n",
        "   - Threads share the same memory space, making data exchange between them faster than with multiprocessing.  \n",
        "\n",
        "- Faster Execution  \n",
        "   - For tasks involving waiting (like API calls or database queries), multithreading allows other operations to continue without delay.  \n",
        "\n",
        "- Parallelism in I/O-Bound Tasks  \n",
        "   - While Python’s Global Interpreter Lock (GIL) limits CPU-bound parallelism, multithreading still boosts performance in I/O-bound scenarios.  \n",
        "\n"
      ],
      "metadata": {
        "id": "gwCEQe4lYteo"
      }
    },
    {
      "cell_type": "markdown",
      "source": [
        "#Practical Questions"
      ],
      "metadata": {
        "id": "7ZvplYe0yWrw"
      }
    },
    {
      "cell_type": "code",
      "execution_count": null,
      "metadata": {
        "id": "TsOntC07CCB1",
        "colab": {
          "base_uri": "https://localhost:8080/"
        },
        "outputId": "f7d6bd8e-46d8-4567-c0ff-eead8575aa22"
      },
      "outputs": [
        {
          "output_type": "stream",
          "name": "stdout",
          "text": [
            "Hello, dikshant here!!\n"
          ]
        }
      ],
      "source": [
        "#Q1. How can you open a file for writing in Python and write a string to it.\n",
        "\n",
        "with open(\"example.txt\", \"w\") as file:         # Write to the file\n",
        "    file.write(\"Hello, dikshant here!!\")\n",
        "\n",
        "with open(\"example.txt\", \"r\") as file:    # Read and print the file content\n",
        "    content = file.read()\n",
        "    print(content)\n"
      ]
    },
    {
      "cell_type": "code",
      "source": [
        "#Q2. Write a Python program to read the contents of a file and print each line.\n",
        "\n",
        "with open(\"example.txt\", \"w\") as file:      # Create and write to the file\n",
        "    file.write(\"Hello, this is line 1.\\n\")\n",
        "    file.write(\"This is line 2.\\n\")\n",
        "    file.write(\"And this is line 3.\\n\")\n",
        "\n",
        "with open(\"example.txt\", \"r\") as file:   # Read and print each line from the file\n",
        "    for line in file:\n",
        "        print(line)  # Prints each line with original formatting\n",
        "\n"
      ],
      "metadata": {
        "id": "8fUlatnozMiV",
        "colab": {
          "base_uri": "https://localhost:8080/"
        },
        "outputId": "92b65c4c-00e6-41cd-db19-3648e54edf1f"
      },
      "execution_count": null,
      "outputs": [
        {
          "output_type": "stream",
          "name": "stdout",
          "text": [
            "Hello, this is line 1.\n",
            "\n",
            "This is line 2.\n",
            "\n",
            "And this is line 3.\n",
            "\n"
          ]
        }
      ]
    },
    {
      "cell_type": "code",
      "source": [
        " #Q3. How would you handle a case where the file doesn't exist while trying to open it for reading.\n",
        "\n",
        "try:\n",
        "    with open(\"non_existent_file.txt\", \"r\") as file:\n",
        "        content = file.read()\n",
        "        print(content)\n",
        "except FileNotFoundError:\n",
        "    print(\"Error: The file does not exist.\")\n",
        "\n"
      ],
      "metadata": {
        "colab": {
          "base_uri": "https://localhost:8080/"
        },
        "id": "mU6x_DDDVdE2",
        "outputId": "7c0c8cb6-348b-4016-e064-bf7b7796a6be"
      },
      "execution_count": null,
      "outputs": [
        {
          "output_type": "stream",
          "name": "stdout",
          "text": [
            "Error: The file does not exist.\n"
          ]
        }
      ]
    },
    {
      "cell_type": "code",
      "source": [
        "#Q4. Write a Python script that reads from one file and writes its content to another file.\n",
        "\n",
        "with open(\"source.txt\", \"w\") as file:       # Create and write to the source file\n",
        "    file.write(\"This is the content of source.txt.\")\n",
        "\n",
        "with open(\"source.txt\", \"r\") as source_file: # source file\n",
        "    content = source_file.read()\n",
        "\n",
        "with open(\"destination.txt\", \"w\") as dest_file:    # destination file\n",
        "    dest_file.write(content)\n",
        "\n",
        "with open(\"destination.txt\", \"r\") as file:   # Read and print each line from the file\n",
        "    for line in file:\n",
        "        print(line)\n",
        "\n",
        "\n"
      ],
      "metadata": {
        "colab": {
          "base_uri": "https://localhost:8080/"
        },
        "id": "1ZAYO9JQXsma",
        "outputId": "59f4c872-fc3d-48ed-84ff-13d691a1fd0a"
      },
      "execution_count": null,
      "outputs": [
        {
          "output_type": "stream",
          "name": "stdout",
          "text": [
            "This is the content of source.txt.\n"
          ]
        }
      ]
    },
    {
      "cell_type": "code",
      "source": [
        "#Q5. How would you catch and handle division by zero error in Python.\n",
        "\n",
        "try:\n",
        "    result = 10 / 0    # Division by zero\n",
        "    print(\"Result:\", result)\n",
        "except ZeroDivisionError:\n",
        "    print(\"Error: Division by zero is not allowed.\")\n"
      ],
      "metadata": {
        "colab": {
          "base_uri": "https://localhost:8080/"
        },
        "id": "fXxjGSXwbH-2",
        "outputId": "1308657c-970f-4cd2-81ce-f08d5d22009d"
      },
      "execution_count": null,
      "outputs": [
        {
          "output_type": "stream",
          "name": "stdout",
          "text": [
            "Error: Division by zero is not allowed.\n"
          ]
        }
      ]
    },
    {
      "cell_type": "code",
      "source": [
        "#Q6. Write a Python program that logs an error message to a log file when a division by zero exception occurs.\n",
        "\n",
        "import logging\n",
        "\n",
        "logging.basicConfig(filename='error.log', level=logging.ERROR)\n",
        "\n",
        "try:\n",
        "    result = 10 / 0\n",
        "except ZeroDivisionError:\n",
        "    logging.error(\"Division by zero error occurred.\")\n"
      ],
      "metadata": {
        "colab": {
          "base_uri": "https://localhost:8080/"
        },
        "id": "rT0eREejcHDP",
        "outputId": "d5baccc6-e2db-4b77-9693-4c31ba455bd3"
      },
      "execution_count": null,
      "outputs": [
        {
          "output_type": "stream",
          "name": "stderr",
          "text": [
            "ERROR:root:Division by zero error occurred.\n"
          ]
        }
      ]
    },
    {
      "cell_type": "code",
      "source": [
        "#Q7. How do you log information at different levels (INFO, ERROR, WARNING) in Python using the logging module.\n",
        "\n",
        "import logging\n",
        "\n",
        "logging.basicConfig(filename='app.log', level=logging.DEBUG, format='%(levelname)s: %(message)s') # Configure logging\n",
        "\n",
        "# Logging at different levels\n",
        "logging.debug(\"This is a DEBUG message.\")     # Detailed information for debugging\n",
        "logging.info(\"This is an INFO message.\")       # General information\n",
        "logging.warning(\"This is a WARNING message.\")  # Indicates potential issues\n",
        "logging.error(\"This is an ERROR message.\")     # Error that occurs during execution\n",
        "logging.critical(\"This is a CRITICAL message.\") # Serious error indicating system failure\n",
        "\n",
        "\n",
        "\n"
      ],
      "metadata": {
        "colab": {
          "base_uri": "https://localhost:8080/"
        },
        "id": "sRPqnRqxcbKb",
        "outputId": "16752ad1-a9e3-42ff-9c4f-4277621b8fc8"
      },
      "execution_count": null,
      "outputs": [
        {
          "output_type": "stream",
          "name": "stderr",
          "text": [
            "WARNING:root:This is a WARNING message.\n",
            "ERROR:root:This is an ERROR message.\n",
            "CRITICAL:root:This is a CRITICAL message.\n"
          ]
        }
      ]
    },
    {
      "cell_type": "code",
      "source": [
        "#8. Write a program to handle a file opening error using exception handling.\n",
        "\n",
        "try:\n",
        "    with open(\"non_existent_file.txt\", \"r\") as file:\n",
        "        content = file.read()\n",
        "        print(content)\n",
        "except FileNotFoundError:\n",
        "    print(\"Error: The file does not exist.\")\n"
      ],
      "metadata": {
        "colab": {
          "base_uri": "https://localhost:8080/"
        },
        "id": "eBpgfXKhe6Yn",
        "outputId": "b30cc3a9-ab52-4e67-ce0d-d9d34fac4446"
      },
      "execution_count": null,
      "outputs": [
        {
          "output_type": "stream",
          "name": "stdout",
          "text": [
            "Error: The file does not exist.\n"
          ]
        }
      ]
    },
    {
      "cell_type": "code",
      "source": [
        "#Q9. How can you read a file line by line and store its content in a list in Python.\n",
        "\n",
        "with open(\"example.txt\", \"w\") as file:    # Creating and writing content to the file\n",
        "    file.write(\"Line 1\\nLine 2\\nLine 3\")\n",
        "\n",
        "\n",
        "with open(\"example.txt\", \"r\") as file:   # Read file line by line and store content in a list\n",
        "    lines = file.readlines()\n",
        "\n",
        "print(lines)\n"
      ],
      "metadata": {
        "id": "StzuTBBKiF16",
        "colab": {
          "base_uri": "https://localhost:8080/"
        },
        "outputId": "9c75e2cd-37d8-4446-d072-433596b639e9"
      },
      "execution_count": null,
      "outputs": [
        {
          "output_type": "stream",
          "name": "stdout",
          "text": [
            "['Line 1\\n', 'Line 2\\n', 'Line 3']\n"
          ]
        }
      ]
    },
    {
      "cell_type": "code",
      "source": [
        "#10. How can you append data to an existing file in Python.\n",
        "\n",
        "with open(\"example.txt\", \"a\") as file:      # Append data to an existing file\n",
        "    file.write(\"\\nThis is appended text.\")\n",
        "\n",
        "with open(\"example.txt\", \"r\") as file:    # Read and print the updated content\n",
        "    print(file.read())\n"
      ],
      "metadata": {
        "colab": {
          "base_uri": "https://localhost:8080/"
        },
        "id": "jc25w42PEgFE",
        "outputId": "297c49af-9797-466a-9738-26e06c2cd785"
      },
      "execution_count": null,
      "outputs": [
        {
          "output_type": "stream",
          "name": "stdout",
          "text": [
            "Line 1\n",
            "Line 2\n",
            "Line 3\n",
            "This is appended text.\n",
            "This is appended text.\n",
            "This is appended text.\n",
            "This is appended text.\n",
            "This is appended text.\n"
          ]
        }
      ]
    },
    {
      "cell_type": "code",
      "source": [
        "#11.  Write a Python program that uses a try-except block to handle an error when attempting to access a dictionary key that doesn't exist.\n",
        "\n",
        "data = {\"name\": \"Dikshant\", \"age\": 22}\n",
        "\n",
        "try:                                # Try-except block to handle missing key\n",
        "    print(data[\"address\"])  # Key doesn't exist\n",
        "except KeyError:\n",
        "    print(\"Error: The key 'address' does not exist in the dictionary.\")\n"
      ],
      "metadata": {
        "colab": {
          "base_uri": "https://localhost:8080/"
        },
        "id": "77jnmtd9FM-c",
        "outputId": "29fc5fc6-9af9-4e49-a623-90630a2aeb71"
      },
      "execution_count": null,
      "outputs": [
        {
          "output_type": "stream",
          "name": "stdout",
          "text": [
            "Error: The key 'address' does not exist in the dictionary.\n"
          ]
        }
      ]
    },
    {
      "cell_type": "code",
      "source": [
        "#12. Write a program that demonstrates using multiple except blocks to handle different types of exceptions.\n",
        "\n",
        "try:\n",
        "    result = 10 / 1   # Division by zero error\n",
        "\n",
        "    print(value)       # Accessing an undefined variable\n",
        "\n",
        "    data = {\"name\": \"Dikshant\"}         # KeyError in dictionary\n",
        "    print(data[\"age\"])\n",
        "\n",
        "except ZeroDivisionError:\n",
        "    print(\"Error: Division by zero is not allowed.\")\n",
        "\n",
        "except NameError:\n",
        "    print(\"Error: Variable is not defined.\")\n",
        "\n",
        "except KeyError:\n",
        "    print(\"Error: Key not found in the dictionary.\")\n"
      ],
      "metadata": {
        "colab": {
          "base_uri": "https://localhost:8080/"
        },
        "id": "ook4PWlUG0_L",
        "outputId": "c44b3f5b-fa22-4cfe-abe4-d6664232efa7"
      },
      "execution_count": null,
      "outputs": [
        {
          "output_type": "stream",
          "name": "stdout",
          "text": [
            "Error: Variable is not defined.\n"
          ]
        }
      ]
    },
    {
      "cell_type": "code",
      "source": [
        "#13. How would you check if a file exists before attempting to read it in Python.\n",
        "\n",
        "import os\n",
        "\n",
        "if os.path.exists(\"dikshant.txt\"):            # Check if the file exists before reading\n",
        "    with open(\"dikshant.txt\", \"r\") as file:\n",
        "        content = file.read()\n",
        "        print(content)\n",
        "else:\n",
        "    print(\"Error: The file does not exist.\")\n"
      ],
      "metadata": {
        "colab": {
          "base_uri": "https://localhost:8080/"
        },
        "id": "9a8g962KHcz6",
        "outputId": "8325dcb6-73ad-48a4-bb0f-72c112f17d85"
      },
      "execution_count": null,
      "outputs": [
        {
          "output_type": "stream",
          "name": "stdout",
          "text": [
            "Error: The file does not exist.\n"
          ]
        }
      ]
    },
    {
      "cell_type": "code",
      "source": [
        "#14. Write a program that uses the logging module to log both informational and error messages.\n",
        "\n",
        "import logging\n",
        "\n",
        "logging.basicConfig(filename='app.log', level=logging.DEBUG, format='%(levelname)s: %(message)s')     # Configure logging\n",
        "\n",
        "logging.info(\"Program started successfully.\")       # Logging information and errors\n",
        "\n",
        "try:\n",
        "    result = 10 / 0\n",
        "except ZeroDivisionError:\n",
        "    logging.error(\"Division by zero error occurred.\")\n",
        "\n",
        "logging.info(\"Program finished executing.\")\n"
      ],
      "metadata": {
        "colab": {
          "base_uri": "https://localhost:8080/"
        },
        "id": "VuGkB9AnIgus",
        "outputId": "2c365ed7-1eee-4f49-d7b0-49e79fba3a8f"
      },
      "execution_count": null,
      "outputs": [
        {
          "output_type": "stream",
          "name": "stderr",
          "text": [
            "ERROR:root:Division by zero error occurred.\n"
          ]
        }
      ]
    },
    {
      "cell_type": "code",
      "source": [
        "#15. Write a Python program that prints the content of a file and handles the case when the file is empty.\n",
        "\n",
        "try:\n",
        "\n",
        "  with open(\"dikshant.txt\", \"w\") as file:\n",
        "\n",
        "    with open(\"dikshant.txt\", \"r\") as file:\n",
        "        content = file.read()\n",
        "\n",
        "        if content.strip():            # Check if content is not empty\n",
        "            print(\"File Content:\\n\", content)\n",
        "        else:\n",
        "            print(\"The file is empty.\")\n",
        "except FileNotFoundError:\n",
        "    print(\"Error: The file does not exist.\")\n"
      ],
      "metadata": {
        "colab": {
          "base_uri": "https://localhost:8080/"
        },
        "id": "uf5_TdaTJbEK",
        "outputId": "33e6c985-89ff-4668-fbc6-cd3e9ff4f758"
      },
      "execution_count": null,
      "outputs": [
        {
          "output_type": "stream",
          "name": "stdout",
          "text": [
            "The file is empty.\n"
          ]
        }
      ]
    },
    {
      "cell_type": "code",
      "source": [
        "#Q16. Demonstrate how to use memory profiling to check the memory usage of a small program.\n",
        "\n",
        "import tracemalloc\n",
        "\n",
        "def memory_intensive_task():\n",
        "    data = [i for i in range(1000000)]  # Large data for memory tracking\n",
        "    print(\"Data created successfully.\")\n",
        "\n",
        "tracemalloc.start()          # Start tracing memory\n",
        "\n",
        "memory_intensive_task()        # Run the function and track memory\n",
        "\n",
        "current, peak = tracemalloc.get_traced_memory()          # Display memory usage details\n",
        "print(f\"Current memory usage: {current / 1024 / 1024:.2f} MB\")\n",
        "print(f\"Peak memory usage: {peak / 1024 / 1024:.2f} MB\")\n",
        "\n",
        "# Stop tracing memory\n",
        "tracemalloc.stop()\n"
      ],
      "metadata": {
        "colab": {
          "base_uri": "https://localhost:8080/"
        },
        "id": "FfXuFJtNOpCP",
        "outputId": "95bddff4-2495-4bd9-cb63-4fde6b35db72"
      },
      "execution_count": 10,
      "outputs": [
        {
          "output_type": "stream",
          "name": "stdout",
          "text": [
            "Data created successfully.\n",
            "Current memory usage: 0.01 MB\n",
            "Peak memory usage: 38.58 MB\n"
          ]
        }
      ]
    },
    {
      "cell_type": "code",
      "source": [
        "#17. Write a Python program to create and write a list of numbers to a file, one number per line.\n",
        "\n",
        "numbers = [1, 2, 3, 4, 5]      # Create and write a list of numbers to a file\n",
        "\n",
        "with open(\"numbers.txt\", \"w\") as file:\n",
        "    for number in numbers:\n",
        "        file.write(f\"{number}\\n\")\n",
        "\n",
        "with open(\"numbers.txt\", \"r\") as file:   # Read and print the file content\n",
        "    content = file.read()\n",
        "    print(\"File Content:\\n\" + content)\n",
        "\n",
        "\n"
      ],
      "metadata": {
        "colab": {
          "base_uri": "https://localhost:8080/"
        },
        "id": "vp04KeNRObjD",
        "outputId": "1c2b9d58-1f90-4937-bf50-51deef6212ee"
      },
      "execution_count": 13,
      "outputs": [
        {
          "output_type": "stream",
          "name": "stdout",
          "text": [
            "File Content:\n",
            "1\n",
            "2\n",
            "3\n",
            "4\n",
            "5\n",
            "\n"
          ]
        }
      ]
    },
    {
      "cell_type": "code",
      "source": [
        "#Q18. How would you implement a basic logging setup that logs to a file with rotation after 1MB.\n",
        "\n",
        "import logging\n",
        "from logging.handlers import RotatingFileHandler\n",
        "\n",
        "logging.basicConfig(                 # Configure logging with rotation (1MB max file size, keep 3 backups)\n",
        "    handlers=[RotatingFileHandler(\"app.log\", maxBytes=1_048_576, backupCount=3)],\n",
        "    level=logging.DEBUG,\n",
        "    format=\"%(asctime)s - %(levelname)s - %(message)s\"\n",
        ")\n",
        "\n",
        "# Controlled log generation\n",
        "for i in range(50):  # Adjust the range for the desired log limit\n",
        "    logging.debug(f\"Debug message {i}\")\n",
        "    logging.info(f\"Info message {i}\")\n",
        "    logging.warning(f\"Warning message {i}\")\n",
        "    logging.error(f\"Error message {i}\")\n",
        "    logging.critical(f\"Critical message {i}\")\n",
        "\n",
        "print(\"Logging complete. Check 'app.log' for details.\")\n",
        "\n"
      ],
      "metadata": {
        "colab": {
          "base_uri": "https://localhost:8080/"
        },
        "id": "hQSM-TQ1PQOM",
        "outputId": "eff2ec28-d3f2-49c8-d63f-92e5af3831d2"
      },
      "execution_count": 1,
      "outputs": [
        {
          "output_type": "stream",
          "name": "stderr",
          "text": [
            "WARNING:root:Warning message 0\n",
            "ERROR:root:Error message 0\n",
            "CRITICAL:root:Critical message 0\n",
            "WARNING:root:Warning message 1\n",
            "ERROR:root:Error message 1\n",
            "CRITICAL:root:Critical message 1\n",
            "WARNING:root:Warning message 2\n",
            "ERROR:root:Error message 2\n",
            "CRITICAL:root:Critical message 2\n",
            "WARNING:root:Warning message 3\n",
            "ERROR:root:Error message 3\n",
            "CRITICAL:root:Critical message 3\n",
            "WARNING:root:Warning message 4\n",
            "ERROR:root:Error message 4\n",
            "CRITICAL:root:Critical message 4\n",
            "WARNING:root:Warning message 5\n",
            "ERROR:root:Error message 5\n",
            "CRITICAL:root:Critical message 5\n",
            "WARNING:root:Warning message 6\n",
            "ERROR:root:Error message 6\n",
            "CRITICAL:root:Critical message 6\n",
            "WARNING:root:Warning message 7\n",
            "ERROR:root:Error message 7\n",
            "CRITICAL:root:Critical message 7\n",
            "WARNING:root:Warning message 8\n",
            "ERROR:root:Error message 8\n",
            "CRITICAL:root:Critical message 8\n",
            "WARNING:root:Warning message 9\n",
            "ERROR:root:Error message 9\n",
            "CRITICAL:root:Critical message 9\n",
            "WARNING:root:Warning message 10\n",
            "ERROR:root:Error message 10\n",
            "CRITICAL:root:Critical message 10\n",
            "WARNING:root:Warning message 11\n",
            "ERROR:root:Error message 11\n",
            "CRITICAL:root:Critical message 11\n",
            "WARNING:root:Warning message 12\n",
            "ERROR:root:Error message 12\n",
            "CRITICAL:root:Critical message 12\n",
            "WARNING:root:Warning message 13\n",
            "ERROR:root:Error message 13\n",
            "CRITICAL:root:Critical message 13\n",
            "WARNING:root:Warning message 14\n",
            "ERROR:root:Error message 14\n",
            "CRITICAL:root:Critical message 14\n",
            "WARNING:root:Warning message 15\n",
            "ERROR:root:Error message 15\n",
            "CRITICAL:root:Critical message 15\n",
            "WARNING:root:Warning message 16\n",
            "ERROR:root:Error message 16\n",
            "CRITICAL:root:Critical message 16\n",
            "WARNING:root:Warning message 17\n",
            "ERROR:root:Error message 17\n",
            "CRITICAL:root:Critical message 17\n",
            "WARNING:root:Warning message 18\n",
            "ERROR:root:Error message 18\n",
            "CRITICAL:root:Critical message 18\n",
            "WARNING:root:Warning message 19\n",
            "ERROR:root:Error message 19\n",
            "CRITICAL:root:Critical message 19\n",
            "WARNING:root:Warning message 20\n",
            "ERROR:root:Error message 20\n",
            "CRITICAL:root:Critical message 20\n",
            "WARNING:root:Warning message 21\n",
            "ERROR:root:Error message 21\n",
            "CRITICAL:root:Critical message 21\n",
            "WARNING:root:Warning message 22\n",
            "ERROR:root:Error message 22\n",
            "CRITICAL:root:Critical message 22\n",
            "WARNING:root:Warning message 23\n",
            "ERROR:root:Error message 23\n",
            "CRITICAL:root:Critical message 23\n",
            "WARNING:root:Warning message 24\n",
            "ERROR:root:Error message 24\n",
            "CRITICAL:root:Critical message 24\n",
            "WARNING:root:Warning message 25\n",
            "ERROR:root:Error message 25\n",
            "CRITICAL:root:Critical message 25\n",
            "WARNING:root:Warning message 26\n",
            "ERROR:root:Error message 26\n",
            "CRITICAL:root:Critical message 26\n",
            "WARNING:root:Warning message 27\n",
            "ERROR:root:Error message 27\n",
            "CRITICAL:root:Critical message 27\n",
            "WARNING:root:Warning message 28\n",
            "ERROR:root:Error message 28\n",
            "CRITICAL:root:Critical message 28\n",
            "WARNING:root:Warning message 29\n",
            "ERROR:root:Error message 29\n",
            "CRITICAL:root:Critical message 29\n",
            "WARNING:root:Warning message 30\n",
            "ERROR:root:Error message 30\n",
            "CRITICAL:root:Critical message 30\n",
            "WARNING:root:Warning message 31\n",
            "ERROR:root:Error message 31\n",
            "CRITICAL:root:Critical message 31\n",
            "WARNING:root:Warning message 32\n",
            "ERROR:root:Error message 32\n",
            "CRITICAL:root:Critical message 32\n",
            "WARNING:root:Warning message 33\n",
            "ERROR:root:Error message 33\n",
            "CRITICAL:root:Critical message 33\n",
            "WARNING:root:Warning message 34\n",
            "ERROR:root:Error message 34\n",
            "CRITICAL:root:Critical message 34\n",
            "WARNING:root:Warning message 35\n",
            "ERROR:root:Error message 35\n",
            "CRITICAL:root:Critical message 35\n",
            "WARNING:root:Warning message 36\n",
            "ERROR:root:Error message 36\n",
            "CRITICAL:root:Critical message 36\n",
            "WARNING:root:Warning message 37\n",
            "ERROR:root:Error message 37\n",
            "CRITICAL:root:Critical message 37\n",
            "WARNING:root:Warning message 38\n",
            "ERROR:root:Error message 38\n",
            "CRITICAL:root:Critical message 38\n",
            "WARNING:root:Warning message 39\n",
            "ERROR:root:Error message 39\n",
            "CRITICAL:root:Critical message 39\n",
            "WARNING:root:Warning message 40\n",
            "ERROR:root:Error message 40\n",
            "CRITICAL:root:Critical message 40\n",
            "WARNING:root:Warning message 41\n",
            "ERROR:root:Error message 41\n",
            "CRITICAL:root:Critical message 41\n",
            "WARNING:root:Warning message 42\n",
            "ERROR:root:Error message 42\n",
            "CRITICAL:root:Critical message 42\n",
            "WARNING:root:Warning message 43\n",
            "ERROR:root:Error message 43\n",
            "CRITICAL:root:Critical message 43\n",
            "WARNING:root:Warning message 44\n",
            "ERROR:root:Error message 44\n",
            "CRITICAL:root:Critical message 44\n",
            "WARNING:root:Warning message 45\n",
            "ERROR:root:Error message 45\n",
            "CRITICAL:root:Critical message 45\n",
            "WARNING:root:Warning message 46\n",
            "ERROR:root:Error message 46\n",
            "CRITICAL:root:Critical message 46\n",
            "WARNING:root:Warning message 47\n",
            "ERROR:root:Error message 47\n",
            "CRITICAL:root:Critical message 47\n",
            "WARNING:root:Warning message 48\n",
            "ERROR:root:Error message 48\n",
            "CRITICAL:root:Critical message 48\n",
            "WARNING:root:Warning message 49\n",
            "ERROR:root:Error message 49\n",
            "CRITICAL:root:Critical message 49\n"
          ]
        },
        {
          "output_type": "stream",
          "name": "stdout",
          "text": [
            "Logging complete. Check 'app.log' for details.\n"
          ]
        }
      ]
    },
    {
      "cell_type": "code",
      "source": [
        "#Q19. Write a program that handles both IndexError and KeyError using a try-except block.\n",
        "\n",
        "try:\n",
        "    my_list = [1, 2, 3]            # List example for IndexError\n",
        "    print(my_list[1])  # IndexError\n",
        "\n",
        "    my_dict = {\"name\": \"Dikshant\", \"age\": 22}         # Dictionary example for KeyError\n",
        "    print(my_dict[\"address\"])  # KeyError\n",
        "\n",
        "except IndexError:\n",
        "    print(\"IndexError: List index out of range.\")\n",
        "except KeyError:\n",
        "    print(\"KeyError: Key not found in the dictionary.\")\n"
      ],
      "metadata": {
        "colab": {
          "base_uri": "https://localhost:8080/"
        },
        "id": "iX8VXqLwPsNr",
        "outputId": "9c20a99d-2f2a-48ed-91a6-33c1a10fcf27"
      },
      "execution_count": 3,
      "outputs": [
        {
          "output_type": "stream",
          "name": "stdout",
          "text": [
            "2\n",
            "KeyError: Key not found in the dictionary.\n"
          ]
        }
      ]
    },
    {
      "cell_type": "code",
      "source": [
        "#20. How would you open a file and read its contents using a context manager in Python.\n",
        "\n",
        "with open(\"example.txt\", \"r\") as file:      # Open and read file using a context manager\n",
        "    content = file.read()\n",
        "\n",
        "print(\"File Content:\\n\", content)\n"
      ],
      "metadata": {
        "colab": {
          "base_uri": "https://localhost:8080/"
        },
        "id": "ylI1rQ7sQhAI",
        "outputId": "5c974623-6ed0-4a4c-8865-781c1d07c9db"
      },
      "execution_count": 4,
      "outputs": [
        {
          "output_type": "stream",
          "name": "stdout",
          "text": [
            "File Content:\n",
            " Line 1\n",
            "Line 2\n",
            "Line 3\n",
            "This is appended text.\n",
            "This is appended text.\n",
            "This is appended text.\n",
            "This is appended text.\n",
            "This is appended text.\n"
          ]
        }
      ]
    },
    {
      "cell_type": "code",
      "source": [
        "#21. Write a Python program that reads a file and prints the number of occurrences of a specific word.\n",
        "\n",
        "def count_word_occurrences(file_path, target_word):\n",
        "    try:\n",
        "        with open(file_path, 'r') as file:\n",
        "            content = file.read()\n",
        "            word_count = content.lower().split().count(target_word.lower())\n",
        "            print(f\"The word '{target_word}' appears {word_count} times in the file.\")\n",
        "    except FileNotFoundError:\n",
        "        print(\"Error: The file was not found.\")\n",
        "    except Exception as e:\n",
        "        print(f\"An error occurred: {e}\")\n",
        "\n",
        "file_path = \"example.txt\"\n",
        "target_word = \"line\"\n",
        "count_word_occurrences(file_path, target_word)\n"
      ],
      "metadata": {
        "colab": {
          "base_uri": "https://localhost:8080/"
        },
        "id": "_xRVx-9-RazD",
        "outputId": "faf1ce9a-c3c0-4d94-dbde-cd3f382daa18"
      },
      "execution_count": 6,
      "outputs": [
        {
          "output_type": "stream",
          "name": "stdout",
          "text": [
            "The word 'line' appears 3 times in the file.\n"
          ]
        }
      ]
    },
    {
      "cell_type": "code",
      "source": [
        "#22. How can you check if a file is empty before attempting to read its contents.\n",
        "\n",
        "import os\n",
        "\n",
        "if os.path.getsize(\"dikshant.txt\") == 0:\n",
        "    print(\"The file is empty.\")\n",
        "else:\n",
        "    with open(\"dikshant.txt\", \"r\") as file:\n",
        "        content = file.read()\n",
        "        print(\"File Content:\\n\", content)\n"
      ],
      "metadata": {
        "colab": {
          "base_uri": "https://localhost:8080/"
        },
        "id": "qoqOUsDmR7XQ",
        "outputId": "6dfafb32-654f-4fc0-b9b8-2d23f2b52bf9"
      },
      "execution_count": 7,
      "outputs": [
        {
          "output_type": "stream",
          "name": "stdout",
          "text": [
            "The file is empty.\n"
          ]
        }
      ]
    },
    {
      "cell_type": "code",
      "source": [
        "#23. Write a Python program that writes to a log file when an error occurs during file handling.\n",
        "\n",
        "import logging\n",
        "\n",
        "logging.basicConfig(filename='error.log', level=logging.ERROR, format='%(asctime)s - %(levelname)s - %(message)s')    # Configure logging\n",
        "\n",
        "try:\n",
        "    with open(\"non_existent_file.txt\", \"r\") as file:\n",
        "        content = file.read()\n",
        "        print(content)\n",
        "except FileNotFoundError:\n",
        "    logging.error(\"File not found error occurred while trying to read the file.\")\n",
        "    print(\"Error: The file does not exist.\")\n",
        "except Exception as e:\n",
        "    logging.error(f\"An unexpected error occurred: {e}\")\n",
        "    print(\"An unexpected error occurred. Please check the log file.\")\n"
      ],
      "metadata": {
        "colab": {
          "base_uri": "https://localhost:8080/"
        },
        "id": "LIDIPBA-SX4f",
        "outputId": "fedecf98-e02e-494f-8a89-682f81d7b7ee"
      },
      "execution_count": 8,
      "outputs": [
        {
          "output_type": "stream",
          "name": "stderr",
          "text": [
            "ERROR:root:File not found error occurred while trying to read the file.\n"
          ]
        },
        {
          "output_type": "stream",
          "name": "stdout",
          "text": [
            "Error: The file does not exist.\n"
          ]
        }
      ]
    },
    {
      "cell_type": "code",
      "source": [],
      "metadata": {
        "id": "T9sUS5OLSnzq"
      },
      "execution_count": null,
      "outputs": []
    }
  ]
}